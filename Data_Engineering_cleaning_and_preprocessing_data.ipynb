{
  "nbformat": 4,
  "nbformat_minor": 0,
  "metadata": {
    "colab": {
      "provenance": []
    },
    "kernelspec": {
      "name": "python3",
      "display_name": "Python 3"
    },
    "language_info": {
      "name": "python"
    }
  },
  "cells": [
    {
      "cell_type": "code",
      "execution_count": null,
      "metadata": {
        "colab": {
          "base_uri": "https://localhost:8080/"
        },
        "id": "01iP7wMNSrEy",
        "outputId": "3ccb15bc-2b2c-4c8e-ca2c-b2c2aab104a3"
      },
      "outputs": [
        {
          "output_type": "stream",
          "name": "stdout",
          "text": [
            "Drive already mounted at /content/drive; to attempt to forcibly remount, call drive.mount(\"/content/drive\", force_remount=True).\n"
          ]
        }
      ],
      "source": [
        "from google.colab import drive\n",
        "drive.mount('/content/drive')"
      ]
    },
    {
      "cell_type": "code",
      "source": [
        "import pandas as pd\n",
        "import numpy as np\n",
        "import matplotlib.pyplot as plt\n",
        "import seaborn as sns\n",
        "from sklearn.preprocessing import LabelEncoder,MinMaxScaler, OrdinalEncoder"
      ],
      "metadata": {
        "id": "l_qX2y79TS2Z"
      },
      "execution_count": null,
      "outputs": []
    },
    {
      "cell_type": "code",
      "source": [
        "df = pd.read_csv(\"/content/drive/MyDrive/MasterDataScientist/entregable 1/bmw_pricing_v3.csv\")"
      ],
      "metadata": {
        "id": "jMA16FDoTWH0"
      },
      "execution_count": null,
      "outputs": []
    },
    {
      "cell_type": "code",
      "source": [
        "df.head()"
      ],
      "metadata": {
        "colab": {
          "base_uri": "https://localhost:8080/",
          "height": 270
        },
        "id": "AMjxUUS2T13b",
        "outputId": "895b8738-19ec-457e-c9a8-b034e963bb9e"
      },
      "execution_count": null,
      "outputs": [
        {
          "output_type": "execute_result",
          "data": {
            "text/plain": [
              "  marca modelo        km  potencia fecha_registro tipo_gasolina   color  \\\n",
              "0   NaN    118  140411.0     100.0     2012-02-01        diesel   black   \n",
              "1   BMW     M4   13929.0     317.0            NaN        petrol    grey   \n",
              "2   BMW    320  183297.0     120.0     2012-04-01        diesel   white   \n",
              "3   BMW    420  128035.0     135.0            NaN        diesel     red   \n",
              "4   BMW    425   97097.0     160.0            NaN        diesel  silver   \n",
              "\n",
              "    tipo_coche volante_regulable aire_acondicionado camara_trasera  \\\n",
              "0          NaN              True               True          False   \n",
              "1  convertible              True               True          False   \n",
              "2          NaN             False              False          False   \n",
              "3  convertible              True               True          False   \n",
              "4          NaN              True               True          False   \n",
              "\n",
              "  asientos_traseros_plegables elevalunas_electrico bluetooth   gps  \\\n",
              "0                         NaN                 True       NaN  True   \n",
              "1                         NaN                False      True  True   \n",
              "2                         NaN                 True     False  True   \n",
              "3                         NaN                 True      True  True   \n",
              "4                       False                False      True  True   \n",
              "\n",
              "  alerta_lim_velocidad   precio fecha_venta  \n",
              "0                  NaN  11300.0  2018-01-01  \n",
              "1                 True  69700.0  2018-02-01  \n",
              "2                False  10200.0  2018-02-01  \n",
              "3                  NaN  25100.0  2018-02-01  \n",
              "4                 True  33400.0  2018-04-01  "
            ],
            "text/html": [
              "\n",
              "\n",
              "  <div id=\"df-c8ecfa99-9713-445b-b3a5-7840af3db155\">\n",
              "    <div class=\"colab-df-container\">\n",
              "      <div>\n",
              "<style scoped>\n",
              "    .dataframe tbody tr th:only-of-type {\n",
              "        vertical-align: middle;\n",
              "    }\n",
              "\n",
              "    .dataframe tbody tr th {\n",
              "        vertical-align: top;\n",
              "    }\n",
              "\n",
              "    .dataframe thead th {\n",
              "        text-align: right;\n",
              "    }\n",
              "</style>\n",
              "<table border=\"1\" class=\"dataframe\">\n",
              "  <thead>\n",
              "    <tr style=\"text-align: right;\">\n",
              "      <th></th>\n",
              "      <th>marca</th>\n",
              "      <th>modelo</th>\n",
              "      <th>km</th>\n",
              "      <th>potencia</th>\n",
              "      <th>fecha_registro</th>\n",
              "      <th>tipo_gasolina</th>\n",
              "      <th>color</th>\n",
              "      <th>tipo_coche</th>\n",
              "      <th>volante_regulable</th>\n",
              "      <th>aire_acondicionado</th>\n",
              "      <th>camara_trasera</th>\n",
              "      <th>asientos_traseros_plegables</th>\n",
              "      <th>elevalunas_electrico</th>\n",
              "      <th>bluetooth</th>\n",
              "      <th>gps</th>\n",
              "      <th>alerta_lim_velocidad</th>\n",
              "      <th>precio</th>\n",
              "      <th>fecha_venta</th>\n",
              "    </tr>\n",
              "  </thead>\n",
              "  <tbody>\n",
              "    <tr>\n",
              "      <th>0</th>\n",
              "      <td>NaN</td>\n",
              "      <td>118</td>\n",
              "      <td>140411.0</td>\n",
              "      <td>100.0</td>\n",
              "      <td>2012-02-01</td>\n",
              "      <td>diesel</td>\n",
              "      <td>black</td>\n",
              "      <td>NaN</td>\n",
              "      <td>True</td>\n",
              "      <td>True</td>\n",
              "      <td>False</td>\n",
              "      <td>NaN</td>\n",
              "      <td>True</td>\n",
              "      <td>NaN</td>\n",
              "      <td>True</td>\n",
              "      <td>NaN</td>\n",
              "      <td>11300.0</td>\n",
              "      <td>2018-01-01</td>\n",
              "    </tr>\n",
              "    <tr>\n",
              "      <th>1</th>\n",
              "      <td>BMW</td>\n",
              "      <td>M4</td>\n",
              "      <td>13929.0</td>\n",
              "      <td>317.0</td>\n",
              "      <td>NaN</td>\n",
              "      <td>petrol</td>\n",
              "      <td>grey</td>\n",
              "      <td>convertible</td>\n",
              "      <td>True</td>\n",
              "      <td>True</td>\n",
              "      <td>False</td>\n",
              "      <td>NaN</td>\n",
              "      <td>False</td>\n",
              "      <td>True</td>\n",
              "      <td>True</td>\n",
              "      <td>True</td>\n",
              "      <td>69700.0</td>\n",
              "      <td>2018-02-01</td>\n",
              "    </tr>\n",
              "    <tr>\n",
              "      <th>2</th>\n",
              "      <td>BMW</td>\n",
              "      <td>320</td>\n",
              "      <td>183297.0</td>\n",
              "      <td>120.0</td>\n",
              "      <td>2012-04-01</td>\n",
              "      <td>diesel</td>\n",
              "      <td>white</td>\n",
              "      <td>NaN</td>\n",
              "      <td>False</td>\n",
              "      <td>False</td>\n",
              "      <td>False</td>\n",
              "      <td>NaN</td>\n",
              "      <td>True</td>\n",
              "      <td>False</td>\n",
              "      <td>True</td>\n",
              "      <td>False</td>\n",
              "      <td>10200.0</td>\n",
              "      <td>2018-02-01</td>\n",
              "    </tr>\n",
              "    <tr>\n",
              "      <th>3</th>\n",
              "      <td>BMW</td>\n",
              "      <td>420</td>\n",
              "      <td>128035.0</td>\n",
              "      <td>135.0</td>\n",
              "      <td>NaN</td>\n",
              "      <td>diesel</td>\n",
              "      <td>red</td>\n",
              "      <td>convertible</td>\n",
              "      <td>True</td>\n",
              "      <td>True</td>\n",
              "      <td>False</td>\n",
              "      <td>NaN</td>\n",
              "      <td>True</td>\n",
              "      <td>True</td>\n",
              "      <td>True</td>\n",
              "      <td>NaN</td>\n",
              "      <td>25100.0</td>\n",
              "      <td>2018-02-01</td>\n",
              "    </tr>\n",
              "    <tr>\n",
              "      <th>4</th>\n",
              "      <td>BMW</td>\n",
              "      <td>425</td>\n",
              "      <td>97097.0</td>\n",
              "      <td>160.0</td>\n",
              "      <td>NaN</td>\n",
              "      <td>diesel</td>\n",
              "      <td>silver</td>\n",
              "      <td>NaN</td>\n",
              "      <td>True</td>\n",
              "      <td>True</td>\n",
              "      <td>False</td>\n",
              "      <td>False</td>\n",
              "      <td>False</td>\n",
              "      <td>True</td>\n",
              "      <td>True</td>\n",
              "      <td>True</td>\n",
              "      <td>33400.0</td>\n",
              "      <td>2018-04-01</td>\n",
              "    </tr>\n",
              "  </tbody>\n",
              "</table>\n",
              "</div>\n",
              "      <button class=\"colab-df-convert\" onclick=\"convertToInteractive('df-c8ecfa99-9713-445b-b3a5-7840af3db155')\"\n",
              "              title=\"Convert this dataframe to an interactive table.\"\n",
              "              style=\"display:none;\">\n",
              "\n",
              "  <svg xmlns=\"http://www.w3.org/2000/svg\" height=\"24px\"viewBox=\"0 0 24 24\"\n",
              "       width=\"24px\">\n",
              "    <path d=\"M0 0h24v24H0V0z\" fill=\"none\"/>\n",
              "    <path d=\"M18.56 5.44l.94 2.06.94-2.06 2.06-.94-2.06-.94-.94-2.06-.94 2.06-2.06.94zm-11 1L8.5 8.5l.94-2.06 2.06-.94-2.06-.94L8.5 2.5l-.94 2.06-2.06.94zm10 10l.94 2.06.94-2.06 2.06-.94-2.06-.94-.94-2.06-.94 2.06-2.06.94z\"/><path d=\"M17.41 7.96l-1.37-1.37c-.4-.4-.92-.59-1.43-.59-.52 0-1.04.2-1.43.59L10.3 9.45l-7.72 7.72c-.78.78-.78 2.05 0 2.83L4 21.41c.39.39.9.59 1.41.59.51 0 1.02-.2 1.41-.59l7.78-7.78 2.81-2.81c.8-.78.8-2.07 0-2.86zM5.41 20L4 18.59l7.72-7.72 1.47 1.35L5.41 20z\"/>\n",
              "  </svg>\n",
              "      </button>\n",
              "\n",
              "\n",
              "\n",
              "    <div id=\"df-29562161-e3b0-40cf-bc59-b41c41218cfd\">\n",
              "      <button class=\"colab-df-quickchart\" onclick=\"quickchart('df-29562161-e3b0-40cf-bc59-b41c41218cfd')\"\n",
              "              title=\"Suggest charts.\"\n",
              "              style=\"display:none;\">\n",
              "\n",
              "<svg xmlns=\"http://www.w3.org/2000/svg\" height=\"24px\"viewBox=\"0 0 24 24\"\n",
              "     width=\"24px\">\n",
              "    <g>\n",
              "        <path d=\"M19 3H5c-1.1 0-2 .9-2 2v14c0 1.1.9 2 2 2h14c1.1 0 2-.9 2-2V5c0-1.1-.9-2-2-2zM9 17H7v-7h2v7zm4 0h-2V7h2v10zm4 0h-2v-4h2v4z\"/>\n",
              "    </g>\n",
              "</svg>\n",
              "      </button>\n",
              "    </div>\n",
              "\n",
              "<style>\n",
              "  .colab-df-quickchart {\n",
              "    background-color: #E8F0FE;\n",
              "    border: none;\n",
              "    border-radius: 50%;\n",
              "    cursor: pointer;\n",
              "    display: none;\n",
              "    fill: #1967D2;\n",
              "    height: 32px;\n",
              "    padding: 0 0 0 0;\n",
              "    width: 32px;\n",
              "  }\n",
              "\n",
              "  .colab-df-quickchart:hover {\n",
              "    background-color: #E2EBFA;\n",
              "    box-shadow: 0px 1px 2px rgba(60, 64, 67, 0.3), 0px 1px 3px 1px rgba(60, 64, 67, 0.15);\n",
              "    fill: #174EA6;\n",
              "  }\n",
              "\n",
              "  [theme=dark] .colab-df-quickchart {\n",
              "    background-color: #3B4455;\n",
              "    fill: #D2E3FC;\n",
              "  }\n",
              "\n",
              "  [theme=dark] .colab-df-quickchart:hover {\n",
              "    background-color: #434B5C;\n",
              "    box-shadow: 0px 1px 3px 1px rgba(0, 0, 0, 0.15);\n",
              "    filter: drop-shadow(0px 1px 2px rgba(0, 0, 0, 0.3));\n",
              "    fill: #FFFFFF;\n",
              "  }\n",
              "</style>\n",
              "\n",
              "    <script>\n",
              "      async function quickchart(key) {\n",
              "        const containerElement = document.querySelector('#' + key);\n",
              "        const charts = await google.colab.kernel.invokeFunction(\n",
              "            'suggestCharts', [key], {});\n",
              "      }\n",
              "    </script>\n",
              "\n",
              "      <script>\n",
              "\n",
              "function displayQuickchartButton(domScope) {\n",
              "  let quickchartButtonEl =\n",
              "    domScope.querySelector('#df-29562161-e3b0-40cf-bc59-b41c41218cfd button.colab-df-quickchart');\n",
              "  quickchartButtonEl.style.display =\n",
              "    google.colab.kernel.accessAllowed ? 'block' : 'none';\n",
              "}\n",
              "\n",
              "        displayQuickchartButton(document);\n",
              "      </script>\n",
              "      <style>\n",
              "    .colab-df-container {\n",
              "      display:flex;\n",
              "      flex-wrap:wrap;\n",
              "      gap: 12px;\n",
              "    }\n",
              "\n",
              "    .colab-df-convert {\n",
              "      background-color: #E8F0FE;\n",
              "      border: none;\n",
              "      border-radius: 50%;\n",
              "      cursor: pointer;\n",
              "      display: none;\n",
              "      fill: #1967D2;\n",
              "      height: 32px;\n",
              "      padding: 0 0 0 0;\n",
              "      width: 32px;\n",
              "    }\n",
              "\n",
              "    .colab-df-convert:hover {\n",
              "      background-color: #E2EBFA;\n",
              "      box-shadow: 0px 1px 2px rgba(60, 64, 67, 0.3), 0px 1px 3px 1px rgba(60, 64, 67, 0.15);\n",
              "      fill: #174EA6;\n",
              "    }\n",
              "\n",
              "    [theme=dark] .colab-df-convert {\n",
              "      background-color: #3B4455;\n",
              "      fill: #D2E3FC;\n",
              "    }\n",
              "\n",
              "    [theme=dark] .colab-df-convert:hover {\n",
              "      background-color: #434B5C;\n",
              "      box-shadow: 0px 1px 3px 1px rgba(0, 0, 0, 0.15);\n",
              "      filter: drop-shadow(0px 1px 2px rgba(0, 0, 0, 0.3));\n",
              "      fill: #FFFFFF;\n",
              "    }\n",
              "  </style>\n",
              "\n",
              "      <script>\n",
              "        const buttonEl =\n",
              "          document.querySelector('#df-c8ecfa99-9713-445b-b3a5-7840af3db155 button.colab-df-convert');\n",
              "        buttonEl.style.display =\n",
              "          google.colab.kernel.accessAllowed ? 'block' : 'none';\n",
              "\n",
              "        async function convertToInteractive(key) {\n",
              "          const element = document.querySelector('#df-c8ecfa99-9713-445b-b3a5-7840af3db155');\n",
              "          const dataTable =\n",
              "            await google.colab.kernel.invokeFunction('convertToInteractive',\n",
              "                                                     [key], {});\n",
              "          if (!dataTable) return;\n",
              "\n",
              "          const docLinkHtml = 'Like what you see? Visit the ' +\n",
              "            '<a target=\"_blank\" href=https://colab.research.google.com/notebooks/data_table.ipynb>data table notebook</a>'\n",
              "            + ' to learn more about interactive tables.';\n",
              "          element.innerHTML = '';\n",
              "          dataTable['output_type'] = 'display_data';\n",
              "          await google.colab.output.renderOutput(dataTable, element);\n",
              "          const docLink = document.createElement('div');\n",
              "          docLink.innerHTML = docLinkHtml;\n",
              "          element.appendChild(docLink);\n",
              "        }\n",
              "      </script>\n",
              "    </div>\n",
              "  </div>\n"
            ]
          },
          "metadata": {},
          "execution_count": 635
        }
      ]
    },
    {
      "cell_type": "code",
      "source": [
        "df.info()"
      ],
      "metadata": {
        "colab": {
          "base_uri": "https://localhost:8080/"
        },
        "id": "GyLxnHHFT18B",
        "outputId": "e29d0714-c9d4-43d6-dfd5-cdaf17cc6bd4"
      },
      "execution_count": null,
      "outputs": [
        {
          "output_type": "stream",
          "name": "stdout",
          "text": [
            "<class 'pandas.core.frame.DataFrame'>\n",
            "RangeIndex: 4843 entries, 0 to 4842\n",
            "Data columns (total 18 columns):\n",
            " #   Column                       Non-Null Count  Dtype  \n",
            "---  ------                       --------------  -----  \n",
            " 0   marca                        3873 non-null   object \n",
            " 1   modelo                       4840 non-null   object \n",
            " 2   km                           4841 non-null   float64\n",
            " 3   potencia                     4842 non-null   float64\n",
            " 4   fecha_registro               2420 non-null   object \n",
            " 5   tipo_gasolina                4838 non-null   object \n",
            " 6   color                        4398 non-null   object \n",
            " 7   tipo_coche                   3383 non-null   object \n",
            " 8   volante_regulable            4839 non-null   object \n",
            " 9   aire_acondicionado           4357 non-null   object \n",
            " 10  camara_trasera               4841 non-null   object \n",
            " 11  asientos_traseros_plegables  1452 non-null   object \n",
            " 12  elevalunas_electrico         4841 non-null   object \n",
            " 13  bluetooth                    4115 non-null   object \n",
            " 14  gps                          4843 non-null   bool   \n",
            " 15  alerta_lim_velocidad         4115 non-null   object \n",
            " 16  precio                       4837 non-null   float64\n",
            " 17  fecha_venta                  4842 non-null   object \n",
            "dtypes: bool(1), float64(3), object(14)\n",
            "memory usage: 648.1+ KB\n"
          ]
        }
      ]
    },
    {
      "cell_type": "code",
      "source": [
        "df.describe()"
      ],
      "metadata": {
        "colab": {
          "base_uri": "https://localhost:8080/",
          "height": 300
        },
        "id": "9jTcFWz5T8-y",
        "outputId": "048491fd-e03e-4049-f08a-cfc694c23ae1"
      },
      "execution_count": null,
      "outputs": [
        {
          "output_type": "execute_result",
          "data": {
            "text/plain": [
              "                 km     potencia         precio\n",
              "count  4.841000e+03  4842.000000    4837.000000\n",
              "mean   1.409593e+05   128.981826   15831.920612\n",
              "std    6.020853e+04    38.994839    9222.630708\n",
              "min   -6.400000e+01     0.000000     100.000000\n",
              "25%    1.028840e+05   100.000000   10800.000000\n",
              "50%    1.410800e+05   120.000000   14200.000000\n",
              "75%    1.752170e+05   135.000000   18600.000000\n",
              "max    1.000376e+06   423.000000  178500.000000"
            ],
            "text/html": [
              "\n",
              "\n",
              "  <div id=\"df-fe97985b-e44e-406e-b7a8-64fd46c9b702\">\n",
              "    <div class=\"colab-df-container\">\n",
              "      <div>\n",
              "<style scoped>\n",
              "    .dataframe tbody tr th:only-of-type {\n",
              "        vertical-align: middle;\n",
              "    }\n",
              "\n",
              "    .dataframe tbody tr th {\n",
              "        vertical-align: top;\n",
              "    }\n",
              "\n",
              "    .dataframe thead th {\n",
              "        text-align: right;\n",
              "    }\n",
              "</style>\n",
              "<table border=\"1\" class=\"dataframe\">\n",
              "  <thead>\n",
              "    <tr style=\"text-align: right;\">\n",
              "      <th></th>\n",
              "      <th>km</th>\n",
              "      <th>potencia</th>\n",
              "      <th>precio</th>\n",
              "    </tr>\n",
              "  </thead>\n",
              "  <tbody>\n",
              "    <tr>\n",
              "      <th>count</th>\n",
              "      <td>4.841000e+03</td>\n",
              "      <td>4842.000000</td>\n",
              "      <td>4837.000000</td>\n",
              "    </tr>\n",
              "    <tr>\n",
              "      <th>mean</th>\n",
              "      <td>1.409593e+05</td>\n",
              "      <td>128.981826</td>\n",
              "      <td>15831.920612</td>\n",
              "    </tr>\n",
              "    <tr>\n",
              "      <th>std</th>\n",
              "      <td>6.020853e+04</td>\n",
              "      <td>38.994839</td>\n",
              "      <td>9222.630708</td>\n",
              "    </tr>\n",
              "    <tr>\n",
              "      <th>min</th>\n",
              "      <td>-6.400000e+01</td>\n",
              "      <td>0.000000</td>\n",
              "      <td>100.000000</td>\n",
              "    </tr>\n",
              "    <tr>\n",
              "      <th>25%</th>\n",
              "      <td>1.028840e+05</td>\n",
              "      <td>100.000000</td>\n",
              "      <td>10800.000000</td>\n",
              "    </tr>\n",
              "    <tr>\n",
              "      <th>50%</th>\n",
              "      <td>1.410800e+05</td>\n",
              "      <td>120.000000</td>\n",
              "      <td>14200.000000</td>\n",
              "    </tr>\n",
              "    <tr>\n",
              "      <th>75%</th>\n",
              "      <td>1.752170e+05</td>\n",
              "      <td>135.000000</td>\n",
              "      <td>18600.000000</td>\n",
              "    </tr>\n",
              "    <tr>\n",
              "      <th>max</th>\n",
              "      <td>1.000376e+06</td>\n",
              "      <td>423.000000</td>\n",
              "      <td>178500.000000</td>\n",
              "    </tr>\n",
              "  </tbody>\n",
              "</table>\n",
              "</div>\n",
              "      <button class=\"colab-df-convert\" onclick=\"convertToInteractive('df-fe97985b-e44e-406e-b7a8-64fd46c9b702')\"\n",
              "              title=\"Convert this dataframe to an interactive table.\"\n",
              "              style=\"display:none;\">\n",
              "\n",
              "  <svg xmlns=\"http://www.w3.org/2000/svg\" height=\"24px\"viewBox=\"0 0 24 24\"\n",
              "       width=\"24px\">\n",
              "    <path d=\"M0 0h24v24H0V0z\" fill=\"none\"/>\n",
              "    <path d=\"M18.56 5.44l.94 2.06.94-2.06 2.06-.94-2.06-.94-.94-2.06-.94 2.06-2.06.94zm-11 1L8.5 8.5l.94-2.06 2.06-.94-2.06-.94L8.5 2.5l-.94 2.06-2.06.94zm10 10l.94 2.06.94-2.06 2.06-.94-2.06-.94-.94-2.06-.94 2.06-2.06.94z\"/><path d=\"M17.41 7.96l-1.37-1.37c-.4-.4-.92-.59-1.43-.59-.52 0-1.04.2-1.43.59L10.3 9.45l-7.72 7.72c-.78.78-.78 2.05 0 2.83L4 21.41c.39.39.9.59 1.41.59.51 0 1.02-.2 1.41-.59l7.78-7.78 2.81-2.81c.8-.78.8-2.07 0-2.86zM5.41 20L4 18.59l7.72-7.72 1.47 1.35L5.41 20z\"/>\n",
              "  </svg>\n",
              "      </button>\n",
              "\n",
              "\n",
              "\n",
              "    <div id=\"df-08ddbc03-26c3-441f-8bd8-edae152996f2\">\n",
              "      <button class=\"colab-df-quickchart\" onclick=\"quickchart('df-08ddbc03-26c3-441f-8bd8-edae152996f2')\"\n",
              "              title=\"Suggest charts.\"\n",
              "              style=\"display:none;\">\n",
              "\n",
              "<svg xmlns=\"http://www.w3.org/2000/svg\" height=\"24px\"viewBox=\"0 0 24 24\"\n",
              "     width=\"24px\">\n",
              "    <g>\n",
              "        <path d=\"M19 3H5c-1.1 0-2 .9-2 2v14c0 1.1.9 2 2 2h14c1.1 0 2-.9 2-2V5c0-1.1-.9-2-2-2zM9 17H7v-7h2v7zm4 0h-2V7h2v10zm4 0h-2v-4h2v4z\"/>\n",
              "    </g>\n",
              "</svg>\n",
              "      </button>\n",
              "    </div>\n",
              "\n",
              "<style>\n",
              "  .colab-df-quickchart {\n",
              "    background-color: #E8F0FE;\n",
              "    border: none;\n",
              "    border-radius: 50%;\n",
              "    cursor: pointer;\n",
              "    display: none;\n",
              "    fill: #1967D2;\n",
              "    height: 32px;\n",
              "    padding: 0 0 0 0;\n",
              "    width: 32px;\n",
              "  }\n",
              "\n",
              "  .colab-df-quickchart:hover {\n",
              "    background-color: #E2EBFA;\n",
              "    box-shadow: 0px 1px 2px rgba(60, 64, 67, 0.3), 0px 1px 3px 1px rgba(60, 64, 67, 0.15);\n",
              "    fill: #174EA6;\n",
              "  }\n",
              "\n",
              "  [theme=dark] .colab-df-quickchart {\n",
              "    background-color: #3B4455;\n",
              "    fill: #D2E3FC;\n",
              "  }\n",
              "\n",
              "  [theme=dark] .colab-df-quickchart:hover {\n",
              "    background-color: #434B5C;\n",
              "    box-shadow: 0px 1px 3px 1px rgba(0, 0, 0, 0.15);\n",
              "    filter: drop-shadow(0px 1px 2px rgba(0, 0, 0, 0.3));\n",
              "    fill: #FFFFFF;\n",
              "  }\n",
              "</style>\n",
              "\n",
              "    <script>\n",
              "      async function quickchart(key) {\n",
              "        const containerElement = document.querySelector('#' + key);\n",
              "        const charts = await google.colab.kernel.invokeFunction(\n",
              "            'suggestCharts', [key], {});\n",
              "      }\n",
              "    </script>\n",
              "\n",
              "      <script>\n",
              "\n",
              "function displayQuickchartButton(domScope) {\n",
              "  let quickchartButtonEl =\n",
              "    domScope.querySelector('#df-08ddbc03-26c3-441f-8bd8-edae152996f2 button.colab-df-quickchart');\n",
              "  quickchartButtonEl.style.display =\n",
              "    google.colab.kernel.accessAllowed ? 'block' : 'none';\n",
              "}\n",
              "\n",
              "        displayQuickchartButton(document);\n",
              "      </script>\n",
              "      <style>\n",
              "    .colab-df-container {\n",
              "      display:flex;\n",
              "      flex-wrap:wrap;\n",
              "      gap: 12px;\n",
              "    }\n",
              "\n",
              "    .colab-df-convert {\n",
              "      background-color: #E8F0FE;\n",
              "      border: none;\n",
              "      border-radius: 50%;\n",
              "      cursor: pointer;\n",
              "      display: none;\n",
              "      fill: #1967D2;\n",
              "      height: 32px;\n",
              "      padding: 0 0 0 0;\n",
              "      width: 32px;\n",
              "    }\n",
              "\n",
              "    .colab-df-convert:hover {\n",
              "      background-color: #E2EBFA;\n",
              "      box-shadow: 0px 1px 2px rgba(60, 64, 67, 0.3), 0px 1px 3px 1px rgba(60, 64, 67, 0.15);\n",
              "      fill: #174EA6;\n",
              "    }\n",
              "\n",
              "    [theme=dark] .colab-df-convert {\n",
              "      background-color: #3B4455;\n",
              "      fill: #D2E3FC;\n",
              "    }\n",
              "\n",
              "    [theme=dark] .colab-df-convert:hover {\n",
              "      background-color: #434B5C;\n",
              "      box-shadow: 0px 1px 3px 1px rgba(0, 0, 0, 0.15);\n",
              "      filter: drop-shadow(0px 1px 2px rgba(0, 0, 0, 0.3));\n",
              "      fill: #FFFFFF;\n",
              "    }\n",
              "  </style>\n",
              "\n",
              "      <script>\n",
              "        const buttonEl =\n",
              "          document.querySelector('#df-fe97985b-e44e-406e-b7a8-64fd46c9b702 button.colab-df-convert');\n",
              "        buttonEl.style.display =\n",
              "          google.colab.kernel.accessAllowed ? 'block' : 'none';\n",
              "\n",
              "        async function convertToInteractive(key) {\n",
              "          const element = document.querySelector('#df-fe97985b-e44e-406e-b7a8-64fd46c9b702');\n",
              "          const dataTable =\n",
              "            await google.colab.kernel.invokeFunction('convertToInteractive',\n",
              "                                                     [key], {});\n",
              "          if (!dataTable) return;\n",
              "\n",
              "          const docLinkHtml = 'Like what you see? Visit the ' +\n",
              "            '<a target=\"_blank\" href=https://colab.research.google.com/notebooks/data_table.ipynb>data table notebook</a>'\n",
              "            + ' to learn more about interactive tables.';\n",
              "          element.innerHTML = '';\n",
              "          dataTable['output_type'] = 'display_data';\n",
              "          await google.colab.output.renderOutput(dataTable, element);\n",
              "          const docLink = document.createElement('div');\n",
              "          docLink.innerHTML = docLinkHtml;\n",
              "          element.appendChild(docLink);\n",
              "        }\n",
              "      </script>\n",
              "    </div>\n",
              "  </div>\n"
            ]
          },
          "metadata": {},
          "execution_count": 637
        }
      ]
    },
    {
      "cell_type": "code",
      "source": [
        "corr=df.corr(numeric_only=True)"
      ],
      "metadata": {
        "id": "TXqvqUn3zmwv"
      },
      "execution_count": null,
      "outputs": []
    },
    {
      "cell_type": "code",
      "source": [
        "corr.style.background_gradient(cmap=\"coolwarm\")"
      ],
      "metadata": {
        "colab": {
          "base_uri": "https://localhost:8080/",
          "height": 175
        },
        "id": "cQIqd4Qjzist",
        "outputId": "d8ddb959-682b-42c7-ccca-e57928089345"
      },
      "execution_count": null,
      "outputs": [
        {
          "output_type": "execute_result",
          "data": {
            "text/plain": [
              "<pandas.io.formats.style.Styler at 0x7bdb5cebbaf0>"
            ],
            "text/html": [
              "<style type=\"text/css\">\n",
              "#T_a088a_row0_col0, #T_a088a_row1_col1, #T_a088a_row2_col2, #T_a088a_row3_col3 {\n",
              "  background-color: #b40426;\n",
              "  color: #f1f1f1;\n",
              "}\n",
              "#T_a088a_row0_col1, #T_a088a_row0_col3, #T_a088a_row3_col0, #T_a088a_row3_col2 {\n",
              "  background-color: #3b4cc0;\n",
              "  color: #f1f1f1;\n",
              "}\n",
              "#T_a088a_row0_col2 {\n",
              "  background-color: #6c8ff1;\n",
              "  color: #f1f1f1;\n",
              "}\n",
              "#T_a088a_row1_col0 {\n",
              "  background-color: #8fb1fe;\n",
              "  color: #000000;\n",
              "}\n",
              "#T_a088a_row1_col2 {\n",
              "  background-color: #3e51c5;\n",
              "  color: #f1f1f1;\n",
              "}\n",
              "#T_a088a_row1_col3 {\n",
              "  background-color: #f59c7d;\n",
              "  color: #000000;\n",
              "}\n",
              "#T_a088a_row2_col0 {\n",
              "  background-color: #c0d4f5;\n",
              "  color: #000000;\n",
              "}\n",
              "#T_a088a_row2_col1 {\n",
              "  background-color: #4b64d5;\n",
              "  color: #f1f1f1;\n",
              "}\n",
              "#T_a088a_row2_col3 {\n",
              "  background-color: #9abbff;\n",
              "  color: #000000;\n",
              "}\n",
              "#T_a088a_row3_col1 {\n",
              "  background-color: #f7ba9f;\n",
              "  color: #000000;\n",
              "}\n",
              "</style>\n",
              "<table id=\"T_a088a\" class=\"dataframe\">\n",
              "  <thead>\n",
              "    <tr>\n",
              "      <th class=\"blank level0\" >&nbsp;</th>\n",
              "      <th id=\"T_a088a_level0_col0\" class=\"col_heading level0 col0\" >km</th>\n",
              "      <th id=\"T_a088a_level0_col1\" class=\"col_heading level0 col1\" >potencia</th>\n",
              "      <th id=\"T_a088a_level0_col2\" class=\"col_heading level0 col2\" >gps</th>\n",
              "      <th id=\"T_a088a_level0_col3\" class=\"col_heading level0 col3\" >precio</th>\n",
              "    </tr>\n",
              "  </thead>\n",
              "  <tbody>\n",
              "    <tr>\n",
              "      <th id=\"T_a088a_level0_row0\" class=\"row_heading level0 row0\" >km</th>\n",
              "      <td id=\"T_a088a_row0_col0\" class=\"data row0 col0\" >1.000000</td>\n",
              "      <td id=\"T_a088a_row0_col1\" class=\"data row0 col1\" >-0.050141</td>\n",
              "      <td id=\"T_a088a_row0_col2\" class=\"data row0 col2\" >0.154815</td>\n",
              "      <td id=\"T_a088a_row0_col3\" class=\"data row0 col3\" >-0.410189</td>\n",
              "    </tr>\n",
              "    <tr>\n",
              "      <th id=\"T_a088a_level0_row1\" class=\"row_heading level0 row1\" >potencia</th>\n",
              "      <td id=\"T_a088a_row1_col0\" class=\"data row1 col0\" >-0.050141</td>\n",
              "      <td id=\"T_a088a_row1_col1\" class=\"data row1 col1\" >1.000000</td>\n",
              "      <td id=\"T_a088a_row1_col2\" class=\"data row1 col2\" >0.008862</td>\n",
              "      <td id=\"T_a088a_row1_col3\" class=\"data row1 col3\" >0.639254</td>\n",
              "    </tr>\n",
              "    <tr>\n",
              "      <th id=\"T_a088a_level0_row2\" class=\"row_heading level0 row2\" >gps</th>\n",
              "      <td id=\"T_a088a_row2_col0\" class=\"data row2 col0\" >0.154815</td>\n",
              "      <td id=\"T_a088a_row2_col1\" class=\"data row2 col1\" >0.008862</td>\n",
              "      <td id=\"T_a088a_row2_col2\" class=\"data row2 col2\" >1.000000</td>\n",
              "      <td id=\"T_a088a_row2_col3\" class=\"data row2 col3\" >-0.005227</td>\n",
              "    </tr>\n",
              "    <tr>\n",
              "      <th id=\"T_a088a_level0_row3\" class=\"row_heading level0 row3\" >precio</th>\n",
              "      <td id=\"T_a088a_row3_col0\" class=\"data row3 col0\" >-0.410189</td>\n",
              "      <td id=\"T_a088a_row3_col1\" class=\"data row3 col1\" >0.639254</td>\n",
              "      <td id=\"T_a088a_row3_col2\" class=\"data row3 col2\" >-0.005227</td>\n",
              "      <td id=\"T_a088a_row3_col3\" class=\"data row3 col3\" >1.000000</td>\n",
              "    </tr>\n",
              "  </tbody>\n",
              "</table>\n"
            ]
          },
          "metadata": {},
          "execution_count": 754
        }
      ]
    },
    {
      "cell_type": "code",
      "source": [
        "#1. DUPLICADOS\n",
        "\n",
        "len(df[df.duplicated()])\n",
        "\n",
        "#no hay duplicados en el dataset"
      ],
      "metadata": {
        "colab": {
          "base_uri": "https://localhost:8080/"
        },
        "id": "OgC6P-oCT1_X",
        "outputId": "25e1b2f4-dc4b-4faa-fbf2-657dc7d19d7a"
      },
      "execution_count": null,
      "outputs": [
        {
          "output_type": "execute_result",
          "data": {
            "text/plain": [
              "0"
            ]
          },
          "metadata": {},
          "execution_count": 638
        }
      ]
    },
    {
      "cell_type": "code",
      "source": [
        "#2. VALORES NULOS\n",
        "\n",
        "df.isnull().sum()"
      ],
      "metadata": {
        "colab": {
          "base_uri": "https://localhost:8080/"
        },
        "id": "8YjkGuIdT2CB",
        "outputId": "50ee5287-f5ba-42d1-b92f-ff5eb421a034"
      },
      "execution_count": null,
      "outputs": [
        {
          "output_type": "execute_result",
          "data": {
            "text/plain": [
              "marca                           970\n",
              "modelo                            3\n",
              "km                                2\n",
              "potencia                          1\n",
              "fecha_registro                 2423\n",
              "tipo_gasolina                     5\n",
              "color                           445\n",
              "tipo_coche                     1460\n",
              "volante_regulable                 4\n",
              "aire_acondicionado              486\n",
              "camara_trasera                    2\n",
              "asientos_traseros_plegables    3391\n",
              "elevalunas_electrico              2\n",
              "bluetooth                       728\n",
              "gps                               0\n",
              "alerta_lim_velocidad            728\n",
              "precio                            6\n",
              "fecha_venta                       1\n",
              "dtype: int64"
            ]
          },
          "metadata": {},
          "execution_count": 639
        }
      ]
    },
    {
      "cell_type": "code",
      "source": [
        "#3. UNIVARIATE ANALYSIS - vamos a analizar cada columna\n",
        "\n",
        "df.info()"
      ],
      "metadata": {
        "colab": {
          "base_uri": "https://localhost:8080/"
        },
        "id": "dIpDJRcsT2Eg",
        "outputId": "5e8b0724-a1d0-4a89-d754-13ad13e5f292"
      },
      "execution_count": null,
      "outputs": [
        {
          "output_type": "stream",
          "name": "stdout",
          "text": [
            "<class 'pandas.core.frame.DataFrame'>\n",
            "RangeIndex: 4843 entries, 0 to 4842\n",
            "Data columns (total 18 columns):\n",
            " #   Column                       Non-Null Count  Dtype  \n",
            "---  ------                       --------------  -----  \n",
            " 0   marca                        3873 non-null   object \n",
            " 1   modelo                       4840 non-null   object \n",
            " 2   km                           4841 non-null   float64\n",
            " 3   potencia                     4842 non-null   float64\n",
            " 4   fecha_registro               2420 non-null   object \n",
            " 5   tipo_gasolina                4838 non-null   object \n",
            " 6   color                        4398 non-null   object \n",
            " 7   tipo_coche                   3383 non-null   object \n",
            " 8   volante_regulable            4839 non-null   object \n",
            " 9   aire_acondicionado           4357 non-null   object \n",
            " 10  camara_trasera               4841 non-null   object \n",
            " 11  asientos_traseros_plegables  1452 non-null   object \n",
            " 12  elevalunas_electrico         4841 non-null   object \n",
            " 13  bluetooth                    4115 non-null   object \n",
            " 14  gps                          4843 non-null   bool   \n",
            " 15  alerta_lim_velocidad         4115 non-null   object \n",
            " 16  precio                       4837 non-null   float64\n",
            " 17  fecha_venta                  4842 non-null   object \n",
            "dtypes: bool(1), float64(3), object(14)\n",
            "memory usage: 648.1+ KB\n"
          ]
        }
      ]
    },
    {
      "cell_type": "code",
      "source": [
        "#3.1. marca\n",
        "\n",
        "df[\"marca\"].value_counts(dropna=False)"
      ],
      "metadata": {
        "colab": {
          "base_uri": "https://localhost:8080/"
        },
        "id": "58C4_fG2T2HA",
        "outputId": "0fec6cf0-9af0-4b5a-a900-64771e33030d"
      },
      "execution_count": null,
      "outputs": [
        {
          "output_type": "execute_result",
          "data": {
            "text/plain": [
              "BMW    3873\n",
              "NaN     970\n",
              "Name: marca, dtype: int64"
            ]
          },
          "metadata": {},
          "execution_count": 641
        }
      ]
    },
    {
      "cell_type": "code",
      "source": [
        "970/3873*100\n",
        "\n",
        "#la proporción de nulos es del 25%, no podemos borrar los nulos.\n",
        "#Como los datos vienen del estudio de BMW, podemos conciderar que solo se esta analizando este coche.\n",
        "#Por lo tanto, vamos a asumir que son potencialmente BMW los nulos.\n",
        "#No juntamos los nulos a la categoria BMW y mantenemos al distincion dado que en\n",
        "#el estudio de la prdicción del precio se tiene que observar si ambas generan efectos distintos sobre el precio."
      ],
      "metadata": {
        "colab": {
          "base_uri": "https://localhost:8080/"
        },
        "id": "PQDH5a_WT2Jc",
        "outputId": "fe1a1186-3428-4dec-a2af-eb80525b0e02"
      },
      "execution_count": null,
      "outputs": [
        {
          "output_type": "execute_result",
          "data": {
            "text/plain": [
              "25.045184611412342"
            ]
          },
          "metadata": {},
          "execution_count": 642
        }
      ]
    },
    {
      "cell_type": "code",
      "source": [
        "df_2 = df.copy()"
      ],
      "metadata": {
        "id": "AzjEaq0wT2Lq"
      },
      "execution_count": null,
      "outputs": []
    },
    {
      "cell_type": "code",
      "source": [
        "df_2[\"marca\"].fillna(\"Potential BMW\", inplace=True)"
      ],
      "metadata": {
        "id": "ewz9n5BfZBv7"
      },
      "execution_count": null,
      "outputs": []
    },
    {
      "cell_type": "code",
      "source": [
        "df_2.isnull().sum()"
      ],
      "metadata": {
        "colab": {
          "base_uri": "https://localhost:8080/"
        },
        "id": "StExZCbyZBy6",
        "outputId": "438c99b6-2dca-4adb-8bf9-17d4518ec5d1"
      },
      "execution_count": null,
      "outputs": [
        {
          "output_type": "execute_result",
          "data": {
            "text/plain": [
              "marca                             0\n",
              "modelo                            3\n",
              "km                                2\n",
              "potencia                          1\n",
              "fecha_registro                 2423\n",
              "tipo_gasolina                     5\n",
              "color                           445\n",
              "tipo_coche                     1460\n",
              "volante_regulable                 4\n",
              "aire_acondicionado              486\n",
              "camara_trasera                    2\n",
              "asientos_traseros_plegables    3391\n",
              "elevalunas_electrico              2\n",
              "bluetooth                       728\n",
              "gps                               0\n",
              "alerta_lim_velocidad            728\n",
              "precio                            6\n",
              "fecha_venta                       1\n",
              "dtype: int64"
            ]
          },
          "metadata": {},
          "execution_count": 645
        }
      ]
    },
    {
      "cell_type": "code",
      "source": [
        "df_2['marca'].hist()"
      ],
      "metadata": {
        "colab": {
          "base_uri": "https://localhost:8080/",
          "height": 448
        },
        "id": "X5sceHKpb-6T",
        "outputId": "26b3c3d1-bed9-469d-afce-91feee0c7861"
      },
      "execution_count": null,
      "outputs": [
        {
          "output_type": "execute_result",
          "data": {
            "text/plain": [
              "<Axes: >"
            ]
          },
          "metadata": {},
          "execution_count": 646
        },
        {
          "output_type": "display_data",
          "data": {
            "text/plain": [
              "<Figure size 640x480 with 1 Axes>"
            ],
            "image/png": "[encoded data removed]"
          },
          "metadata": {}
        }
      ]
    },
    {
      "cell_type": "code",
      "source": [
        "#3.2. modelo --> borramos los nulos ya que es un percentage bajo de la población\n",
        "\n",
        "len(df_2[\"modelo\"].value_counts(dropna=False))"
      ],
      "metadata": {
        "colab": {
          "base_uri": "https://localhost:8080/"
        },
        "id": "NsMDHc88Zp3p",
        "outputId": "0411a893-405b-4f66-c319-031291d9f840"
      },
      "execution_count": null,
      "outputs": [
        {
          "output_type": "execute_result",
          "data": {
            "text/plain": [
              "77"
            ]
          },
          "metadata": {},
          "execution_count": 647
        }
      ]
    },
    {
      "cell_type": "code",
      "source": [
        "df_2[\"modelo\"].value_counts()"
      ],
      "metadata": {
        "colab": {
          "base_uri": "https://localhost:8080/"
        },
        "id": "-jfOOU2FZB1c",
        "outputId": "0884a73b-ddb5-40f0-b7c1-ff2f80705a02"
      },
      "execution_count": null,
      "outputs": [
        {
          "output_type": "execute_result",
          "data": {
            "text/plain": [
              "320                752\n",
              "520                633\n",
              "318                568\n",
              "X3                 438\n",
              "116                358\n",
              "                  ... \n",
              "M135                 1\n",
              "225                  1\n",
              "i8                   1\n",
              "630                  1\n",
              "214 Gran Tourer      1\n",
              "Name: modelo, Length: 76, dtype: int64"
            ]
          },
          "metadata": {},
          "execution_count": 648
        }
      ]
    },
    {
      "cell_type": "code",
      "source": [
        "df_2.dropna(subset=[\"modelo\"],inplace=True)"
      ],
      "metadata": {
        "id": "BUx62MSgcOvd"
      },
      "execution_count": null,
      "outputs": []
    },
    {
      "cell_type": "code",
      "source": [
        "df_2.reset_index(drop=True,inplace=True)"
      ],
      "metadata": {
        "id": "K1N9Xao_cXmY"
      },
      "execution_count": null,
      "outputs": []
    },
    {
      "cell_type": "code",
      "source": [
        "df_2.isnull().sum()"
      ],
      "metadata": {
        "colab": {
          "base_uri": "https://localhost:8080/"
        },
        "id": "5UueXIfqcgUU",
        "outputId": "3c2b451a-f172-4c49-9bc3-7bbac58561ea"
      },
      "execution_count": null,
      "outputs": [
        {
          "output_type": "execute_result",
          "data": {
            "text/plain": [
              "marca                             0\n",
              "modelo                            0\n",
              "km                                2\n",
              "potencia                          1\n",
              "fecha_registro                 2421\n",
              "tipo_gasolina                     5\n",
              "color                           445\n",
              "tipo_coche                     1458\n",
              "volante_regulable                 4\n",
              "aire_acondicionado              486\n",
              "camara_trasera                    2\n",
              "asientos_traseros_plegables    3388\n",
              "elevalunas_electrico              2\n",
              "bluetooth                       727\n",
              "gps                               0\n",
              "alerta_lim_velocidad            727\n",
              "precio                            6\n",
              "fecha_venta                       1\n",
              "dtype: int64"
            ]
          },
          "metadata": {},
          "execution_count": 651
        }
      ]
    },
    {
      "cell_type": "code",
      "source": [
        "df_2['modelo'].hist()"
      ],
      "metadata": {
        "colab": {
          "base_uri": "https://localhost:8080/",
          "height": 452
        },
        "id": "2XEaKAfdbueB",
        "outputId": "59d869aa-bb69-4111-da6b-04a650bc08f2"
      },
      "execution_count": null,
      "outputs": [
        {
          "output_type": "execute_result",
          "data": {
            "text/plain": [
              "<Axes: >"
            ]
          },
          "metadata": {},
          "execution_count": 652
        },
        {
          "output_type": "display_data",
          "data": {
            "text/plain": [
              "<Figure size 640x480 with 1 Axes>"
            ],
            "image/png": "[encoded data removed]"
          },
          "metadata": {}
        }
      ]
    },
    {
      "cell_type": "code",
      "source": [
        "#3.3. km --> borramos los nulos ya que es un percentage bajo de la población\n",
        "\n",
        "\n",
        "df_2[\"km\"].value_counts(dropna=False)"
      ],
      "metadata": {
        "colab": {
          "base_uri": "https://localhost:8080/"
        },
        "id": "ldMKMoQcaPvY",
        "outputId": "558c56aa-5158-45fb-c4e6-e779614dc00f"
      },
      "execution_count": null,
      "outputs": [
        {
          "output_type": "execute_result",
          "data": {
            "text/plain": [
              "127499.0    2\n",
              "129214.0    2\n",
              "124822.0    2\n",
              "180232.0    2\n",
              "78156.0     2\n",
              "           ..\n",
              "96491.0     1\n",
              "133178.0    1\n",
              "105959.0    1\n",
              "193231.0    1\n",
              "195840.0    1\n",
              "Name: km, Length: 4782, dtype: int64"
            ]
          },
          "metadata": {},
          "execution_count": 653
        }
      ]
    },
    {
      "cell_type": "code",
      "source": [
        "df_2[\"km\"].hist()"
      ],
      "metadata": {
        "colab": {
          "base_uri": "https://localhost:8080/",
          "height": 466
        },
        "id": "ZtXI7h2WZB3q",
        "outputId": "04bcab95-586e-4948-e797-dbb7b9d84ef3"
      },
      "execution_count": null,
      "outputs": [
        {
          "output_type": "execute_result",
          "data": {
            "text/plain": [
              "<Axes: >"
            ]
          },
          "metadata": {},
          "execution_count": 654
        },
        {
          "output_type": "display_data",
          "data": {
            "text/plain": [
              "<Figure size 640x480 with 1 Axes>"
            ],
            "image/png": "[encoded data removed]"
          },
          "metadata": {}
        }
      ]
    },
    {
      "cell_type": "code",
      "source": [
        "df_2.boxplot('km')"
      ],
      "metadata": {
        "colab": {
          "base_uri": "https://localhost:8080/",
          "height": 463
        },
        "id": "Kzsy5XVydt-N",
        "outputId": "68d5b1f0-b796-40ef-d22c-bad9ac54cb75"
      },
      "execution_count": null,
      "outputs": [
        {
          "output_type": "execute_result",
          "data": {
            "text/plain": [
              "<Axes: >"
            ]
          },
          "metadata": {},
          "execution_count": 655
        },
        {
          "output_type": "display_data",
          "data": {
            "text/plain": [
              "<Figure size 640x480 with 1 Axes>"
            ],
            "image/png": "[encoded data removed]"
          },
          "metadata": {}
        }
      ]
    },
    {
      "cell_type": "code",
      "source": [
        "#para la variable km los valores superiores a 4000000 km son outliers, hay 6."
      ],
      "metadata": {
        "id": "thnycGi3eFGu"
      },
      "execution_count": null,
      "outputs": []
    },
    {
      "cell_type": "code",
      "source": [
        "df_2.dropna(subset=[\"km\"],inplace=True)"
      ],
      "metadata": {
        "id": "Uo5jRRB4ZB6D"
      },
      "execution_count": null,
      "outputs": []
    },
    {
      "cell_type": "code",
      "source": [
        "df_2.reset_index(drop=True,inplace=True)"
      ],
      "metadata": {
        "id": "FmxLi07FZB8U"
      },
      "execution_count": null,
      "outputs": []
    },
    {
      "cell_type": "code",
      "source": [
        "len(df_2[df_2['km']>400000]) #--> outlier"
      ],
      "metadata": {
        "colab": {
          "base_uri": "https://localhost:8080/"
        },
        "id": "64fuKuRjdOu6",
        "outputId": "3370dabb-5792-4289-de61-1ba8e427e7ae"
      },
      "execution_count": null,
      "outputs": [
        {
          "output_type": "execute_result",
          "data": {
            "text/plain": [
              "6"
            ]
          },
          "metadata": {},
          "execution_count": 659
        }
      ]
    },
    {
      "cell_type": "code",
      "source": [
        "#3.4. potencia --> borramos los nulos ya que es un percentage bajo de la población\n"
      ],
      "metadata": {
        "id": "_aPS4-0acsgk"
      },
      "execution_count": null,
      "outputs": []
    },
    {
      "cell_type": "code",
      "source": [
        "df_2.dropna(subset=[\"potencia\"],inplace=True)"
      ],
      "metadata": {
        "id": "NBLDXhfRcsjY"
      },
      "execution_count": null,
      "outputs": []
    },
    {
      "cell_type": "code",
      "source": [
        "df_2.reset_index(drop=True,inplace=True)"
      ],
      "metadata": {
        "id": "5hY-RRMqcsl1"
      },
      "execution_count": null,
      "outputs": []
    },
    {
      "cell_type": "code",
      "source": [
        "df_2['potencia'].hist()"
      ],
      "metadata": {
        "colab": {
          "base_uri": "https://localhost:8080/",
          "height": 448
        },
        "id": "AFbsM2N9fB0I",
        "outputId": "53598a34-ae68-4bd6-f655-855e5a86a38d"
      },
      "execution_count": null,
      "outputs": [
        {
          "output_type": "execute_result",
          "data": {
            "text/plain": [
              "<Axes: >"
            ]
          },
          "metadata": {},
          "execution_count": 663
        },
        {
          "output_type": "display_data",
          "data": {
            "text/plain": [
              "<Figure size 640x480 with 1 Axes>"
            ],
            "image/png": "[encoded data removed]"
          },
          "metadata": {}
        }
      ]
    },
    {
      "cell_type": "code",
      "source": [
        "df_2.boxplot('potencia')"
      ],
      "metadata": {
        "colab": {
          "base_uri": "https://localhost:8080/",
          "height": 448
        },
        "id": "suJ9cspzfB2g",
        "outputId": "f55ac89b-49a1-4268-a5b3-ef6a2674817e"
      },
      "execution_count": null,
      "outputs": [
        {
          "output_type": "execute_result",
          "data": {
            "text/plain": [
              "<Axes: >"
            ]
          },
          "metadata": {},
          "execution_count": 664
        },
        {
          "output_type": "display_data",
          "data": {
            "text/plain": [
              "<Figure size 640x480 with 1 Axes>"
            ],
            "image/png": "[encoded data removed]"
          },
          "metadata": {}
        }
      ]
    },
    {
      "cell_type": "code",
      "source": [
        "outlier_upper = len(df_2[df_2['potencia']>400])"
      ],
      "metadata": {
        "id": "5bQg0CtJfRgG"
      },
      "execution_count": null,
      "outputs": []
    },
    {
      "cell_type": "code",
      "source": [
        "outlier_lower = len(df_2[df_2['potencia']<50])"
      ],
      "metadata": {
        "id": "LrkZyXrLfjdD"
      },
      "execution_count": null,
      "outputs": []
    },
    {
      "cell_type": "code",
      "source": [
        "len(df_2[df_2['potencia']>200])"
      ],
      "metadata": {
        "colab": {
          "base_uri": "https://localhost:8080/"
        },
        "id": "fMTynq9-f2MI",
        "outputId": "950e8ba1-749d-49ad-ed0c-82b890756268"
      },
      "execution_count": null,
      "outputs": [
        {
          "output_type": "execute_result",
          "data": {
            "text/plain": [
              "259"
            ]
          },
          "metadata": {},
          "execution_count": 667
        }
      ]
    },
    {
      "cell_type": "code",
      "source": [
        "#la variable potencia tiene unos 5 outliers en total, los eliminamos. Aun así,\n",
        "#los datos por encima de 200 son concideraros outliers tambien, no los bprramos ya que son\n",
        "#un percentaje representativo de la población, y queremos ver su efecto en el precio."
      ],
      "metadata": {
        "id": "UJnhVQnhfpRk"
      },
      "execution_count": null,
      "outputs": []
    },
    {
      "cell_type": "code",
      "source": [
        "df_2.drop(index=outlier_lower, inplace=True)"
      ],
      "metadata": {
        "id": "g8uvHgmfhM8i"
      },
      "execution_count": null,
      "outputs": []
    },
    {
      "cell_type": "code",
      "source": [
        "df_2.drop(index=outlier_upper, inplace=True)"
      ],
      "metadata": {
        "id": "IbhSWQY9gIce"
      },
      "execution_count": null,
      "outputs": []
    },
    {
      "cell_type": "code",
      "source": [
        "df_2.reset_index(drop=True,inplace=True)"
      ],
      "metadata": {
        "id": "Kdb4S_olh-sO"
      },
      "execution_count": null,
      "outputs": []
    },
    {
      "cell_type": "code",
      "source": [
        "#3.5. tipo_gasolina --> borramos los nulos ya que es un percentage bajo de la población"
      ],
      "metadata": {
        "id": "_JqRu5uTcsoW"
      },
      "execution_count": null,
      "outputs": []
    },
    {
      "cell_type": "code",
      "source": [
        "df_2.dropna(subset=[\"tipo_gasolina\"],inplace=True)"
      ],
      "metadata": {
        "id": "hrSLPrZAcsq0"
      },
      "execution_count": null,
      "outputs": []
    },
    {
      "cell_type": "code",
      "source": [
        "df_2.reset_index(drop=True,inplace=True)"
      ],
      "metadata": {
        "id": "STR0i3MRcstT"
      },
      "execution_count": null,
      "outputs": []
    },
    {
      "cell_type": "code",
      "source": [
        "df_2['tipo_gasolina'].hist()\n"
      ],
      "metadata": {
        "colab": {
          "base_uri": "https://localhost:8080/",
          "height": 448
        },
        "id": "ULL_zSUfig_d",
        "outputId": "0e356558-d177-4fe5-adcd-844ec6cecee3"
      },
      "execution_count": null,
      "outputs": [
        {
          "output_type": "execute_result",
          "data": {
            "text/plain": [
              "<Axes: >"
            ]
          },
          "metadata": {},
          "execution_count": 675
        },
        {
          "output_type": "display_data",
          "data": {
            "text/plain": [
              "<Figure size 640x480 with 1 Axes>"
            ],
            "image/png": "[encoded data removed]"
          },
          "metadata": {}
        }
      ]
    },
    {
      "cell_type": "code",
      "source": [
        "df_2['tipo_gasolina'].value_counts()"
      ],
      "metadata": {
        "colab": {
          "base_uri": "https://localhost:8080/"
        },
        "id": "ch-T8ALHimw3",
        "outputId": "5fc8f4eb-2201-4f7a-e7fe-5d7ae0507a86"
      },
      "execution_count": null,
      "outputs": [
        {
          "output_type": "execute_result",
          "data": {
            "text/plain": [
              "diesel           4623\n",
              "petrol            191\n",
              "hybrid_petrol       8\n",
              "Diesel              5\n",
              "electro             3\n",
              "Name: tipo_gasolina, dtype: int64"
            ]
          },
          "metadata": {},
          "execution_count": 676
        }
      ]
    },
    {
      "cell_type": "code",
      "source": [
        "#las categorias hybrid_petrol, electro y Diesel son outliers, aun así, las concerbamos ya que queremos ver\n",
        "#su inpacto en el precio. Las mantenemos pues tiene logica que haya un percentaje mas bajo de\n",
        "#coches hybridos (dada su reciente aparición en el mercado) o electricos (por el mismo motivo)\n",
        "#a parte, los coche de la amrca BMW tienden a tener motores potentes de diesel o petrol, por eso tiene logica que sean\n",
        "#las categorias con mas frequencia"
      ],
      "metadata": {
        "id": "ZXgABzT4itWk"
      },
      "execution_count": null,
      "outputs": []
    },
    {
      "cell_type": "code",
      "source": [
        "tipo_gasolina_clean = pd.Series(df_2['tipo_gasolina'], dtype=\"category\")"
      ],
      "metadata": {
        "id": "q_BNklLhnF3q"
      },
      "execution_count": null,
      "outputs": []
    },
    {
      "cell_type": "code",
      "source": [
        "#agrupamos Diesel y diesel\n",
        "#df_2['tipo_gasolina_clean'] = df_2['tipo_gasolina_clean'].cat.rename_categories({'diesel': 1, 'petrol': 2, 'hybrid_petrol': 3,'Diesel': 1,'electro': 4})"
      ],
      "metadata": {
        "id": "A6SOAh11jdd9"
      },
      "execution_count": null,
      "outputs": []
    },
    {
      "cell_type": "code",
      "source": [
        "#3.6. volante_regulable --> borramos los nulos ya que es un percentage bajo de la población"
      ],
      "metadata": {
        "id": "rPcCvoKccsvq"
      },
      "execution_count": null,
      "outputs": []
    },
    {
      "cell_type": "code",
      "source": [
        "df_2.dropna(subset=[\"volante_regulable\"],inplace=True)"
      ],
      "metadata": {
        "id": "WNaEYBNYcsyH"
      },
      "execution_count": null,
      "outputs": []
    },
    {
      "cell_type": "code",
      "source": [
        "df_2.reset_index(drop=True,inplace=True)"
      ],
      "metadata": {
        "id": "sIPkoQJNcs0w"
      },
      "execution_count": null,
      "outputs": []
    },
    {
      "cell_type": "code",
      "source": [
        "df_2['volante_regulable'].value_counts()"
      ],
      "metadata": {
        "colab": {
          "base_uri": "https://localhost:8080/"
        },
        "id": "HGaUgoRZoFzC",
        "outputId": "75f599b1-4c50-4f43-b2c6-89108c34b14f"
      },
      "execution_count": null,
      "outputs": [
        {
          "output_type": "execute_result",
          "data": {
            "text/plain": [
              "True     2658\n",
              "False    2168\n",
              "Name: volante_regulable, dtype: int64"
            ]
          },
          "metadata": {},
          "execution_count": 683
        }
      ]
    },
    {
      "cell_type": "code",
      "source": [
        "#la convertimos en numerica\n",
        "df_2[\"volante_regulable_INT\"]=le.fit_transform(df_2[\"volante_regulable\"])"
      ],
      "metadata": {
        "id": "IEU7nJ-woTxj"
      },
      "execution_count": null,
      "outputs": []
    },
    {
      "cell_type": "code",
      "source": [
        "df_2.drop(['volante_regulable'], axis = 1, inplace = True)"
      ],
      "metadata": {
        "id": "irVICWJVoqPC"
      },
      "execution_count": null,
      "outputs": []
    },
    {
      "cell_type": "code",
      "source": [
        "#3.7. camara_trasera --> borramos los nulos ya que es un percentage bajo de la población"
      ],
      "metadata": {
        "id": "4nYVBLYBdKne"
      },
      "execution_count": null,
      "outputs": []
    },
    {
      "cell_type": "code",
      "source": [
        "df_2.dropna(subset=[\"camara_trasera\"],inplace=True)"
      ],
      "metadata": {
        "id": "kagF9GY8dZ1W"
      },
      "execution_count": null,
      "outputs": []
    },
    {
      "cell_type": "code",
      "source": [
        "df_2.reset_index(drop=True,inplace=True)"
      ],
      "metadata": {
        "id": "5UxgS06rdZ3z"
      },
      "execution_count": null,
      "outputs": []
    },
    {
      "cell_type": "code",
      "source": [
        "df_2['camara_trasera'].value_counts()"
      ],
      "metadata": {
        "colab": {
          "base_uri": "https://localhost:8080/"
        },
        "id": "Ivjqj8m0owhf",
        "outputId": "ec772580-6e03-461b-b102-f26bf337bb20"
      },
      "execution_count": null,
      "outputs": [
        {
          "output_type": "execute_result",
          "data": {
            "text/plain": [
              "False    3849\n",
              "True      975\n",
              "Name: camara_trasera, dtype: int64"
            ]
          },
          "metadata": {},
          "execution_count": 689
        }
      ]
    },
    {
      "cell_type": "code",
      "source": [
        "#la convertimos en numerica\n",
        "df_2[\"camara_trasera_INT\"]=le.fit_transform(df_2[\"camara_trasera\"])"
      ],
      "metadata": {
        "id": "WAfnNalPoyqO"
      },
      "execution_count": null,
      "outputs": []
    },
    {
      "cell_type": "code",
      "source": [
        "df_2.drop(['camara_trasera'], axis = 1, inplace = True)"
      ],
      "metadata": {
        "id": "iAligRe4oys2"
      },
      "execution_count": null,
      "outputs": []
    },
    {
      "cell_type": "code",
      "source": [
        "#3.8. elevalunas_electrico --> borramos los nulos ya que es un percentage bajo de la población"
      ],
      "metadata": {
        "id": "uzho-g_8dKqe"
      },
      "execution_count": null,
      "outputs": []
    },
    {
      "cell_type": "code",
      "source": [
        "df_2.dropna(subset=[\"elevalunas_electrico\"],inplace=True)"
      ],
      "metadata": {
        "id": "D1WJfPMRdaTf"
      },
      "execution_count": null,
      "outputs": []
    },
    {
      "cell_type": "code",
      "source": [
        "df_2.reset_index(drop=True,inplace=True)"
      ],
      "metadata": {
        "id": "myOCSYZSdaWX"
      },
      "execution_count": null,
      "outputs": []
    },
    {
      "cell_type": "code",
      "source": [
        "df_2['elevalunas_electrico'].value_counts()"
      ],
      "metadata": {
        "colab": {
          "base_uri": "https://localhost:8080/"
        },
        "id": "ldA9_knmpCiA",
        "outputId": "0fac918f-9aa0-4d98-ba70-41f2e6158de2"
      },
      "execution_count": null,
      "outputs": [
        {
          "output_type": "execute_result",
          "data": {
            "text/plain": [
              "False    2602\n",
              "True     2220\n",
              "Name: elevalunas_electrico, dtype: int64"
            ]
          },
          "metadata": {},
          "execution_count": 695
        }
      ]
    },
    {
      "cell_type": "code",
      "source": [
        "df_2[\"elevalunas_electrico_INT\"]=le.fit_transform(df_2[\"elevalunas_electrico\"])"
      ],
      "metadata": {
        "id": "-5vCRUgqpH8S"
      },
      "execution_count": null,
      "outputs": []
    },
    {
      "cell_type": "code",
      "source": [
        "df_2.drop(['elevalunas_electrico'], axis = 1, inplace = True)"
      ],
      "metadata": {
        "id": "FFpFolbIpH-q"
      },
      "execution_count": null,
      "outputs": []
    },
    {
      "cell_type": "code",
      "source": [
        "#3.9. precio --> borramos los nulos ya que es un percentage bajo de la población"
      ],
      "metadata": {
        "id": "notQsKvvdKtE"
      },
      "execution_count": null,
      "outputs": []
    },
    {
      "cell_type": "code",
      "source": [
        "df_2.dropna(subset=[\"precio\"],inplace=True)"
      ],
      "metadata": {
        "id": "pUz8zw2Edayb"
      },
      "execution_count": null,
      "outputs": []
    },
    {
      "cell_type": "code",
      "source": [
        "df_2.reset_index(drop=True,inplace=True)"
      ],
      "metadata": {
        "id": "wqg3OV1jda1A"
      },
      "execution_count": null,
      "outputs": []
    },
    {
      "cell_type": "code",
      "source": [
        "df_2['precio'].hist()"
      ],
      "metadata": {
        "colab": {
          "base_uri": "https://localhost:8080/",
          "height": 448
        },
        "id": "SmWccKddpOe4",
        "outputId": "2bb8fe54-fd03-41e5-bd3c-a0a7bda5dae7"
      },
      "execution_count": null,
      "outputs": [
        {
          "output_type": "execute_result",
          "data": {
            "text/plain": [
              "<Axes: >"
            ]
          },
          "metadata": {},
          "execution_count": 701
        },
        {
          "output_type": "display_data",
          "data": {
            "text/plain": [
              "<Figure size 640x480 with 1 Axes>"
            ],
            "image/png": "[encoded data removed]"
          },
          "metadata": {}
        }
      ]
    },
    {
      "cell_type": "code",
      "source": [
        "#3.10. fecha_venta --> borramos los nulos ya que es un percentage bajo de la población"
      ],
      "metadata": {
        "id": "sdXoKpWndKvw"
      },
      "execution_count": null,
      "outputs": []
    },
    {
      "cell_type": "code",
      "source": [
        "df_2.dropna(subset=[\"fecha_venta\"],inplace=True)"
      ],
      "metadata": {
        "id": "X_TplH__dbWn"
      },
      "execution_count": null,
      "outputs": []
    },
    {
      "cell_type": "code",
      "source": [
        "df_2.reset_index(drop=True,inplace=True)"
      ],
      "metadata": {
        "id": "8zxfBNx4dbdl"
      },
      "execution_count": null,
      "outputs": []
    },
    {
      "cell_type": "code",
      "source": [
        "df_2.head()"
      ],
      "metadata": {
        "colab": {
          "base_uri": "https://localhost:8080/",
          "height": 288
        },
        "id": "d6F9tm-3dKyo",
        "outputId": "803189a6-4752-4202-844f-b77a1d3e66c5"
      },
      "execution_count": null,
      "outputs": [
        {
          "output_type": "execute_result",
          "data": {
            "text/plain": [
              "           marca modelo        km  potencia fecha_registro tipo_gasolina  \\\n",
              "0  Potential BMW    118  140411.0     100.0     2012-02-01        diesel   \n",
              "1            BMW     M4   13929.0     317.0            NaN        petrol   \n",
              "2            BMW    425   97097.0     160.0            NaN        diesel   \n",
              "3            BMW    335  152352.0     225.0     2011-05-01        petrol   \n",
              "4            BMW    325  205219.0     145.0            NaN        diesel   \n",
              "\n",
              "    color   tipo_coche aire_acondicionado asientos_traseros_plegables  \\\n",
              "0   black          NaN               True                         NaN   \n",
              "1    grey  convertible               True                         NaN   \n",
              "2  silver          NaN               True                       False   \n",
              "3   black          NaN               True                       False   \n",
              "4    grey  convertible               True                         NaN   \n",
              "\n",
              "  bluetooth   gps alerta_lim_velocidad   precio fecha_venta  \\\n",
              "0       NaN  True                  NaN  11300.0  2018-01-01   \n",
              "1      True  True                 True  69700.0  2018-02-01   \n",
              "2      True  True                 True  33400.0  2018-04-01   \n",
              "3      True  True                 True  17100.0  2018-02-01   \n",
              "4      True  True                 True  12400.0  2018-02-01   \n",
              "\n",
              "   volante_regulable_INT  camara_trasera_INT  elevalunas_electrico_INT  \n",
              "0                      1                   0                         1  \n",
              "1                      1                   0                         0  \n",
              "2                      1                   0                         0  \n",
              "3                      1                   0                         1  \n",
              "4                      1                   0                         1  "
            ],
            "text/html": [
              "\n",
              "\n",
              "  <div id=\"df-9462daff-14b6-43d4-a699-adad77b9186b\">\n",
              "    <div class=\"colab-df-container\">\n",
              "      <div>\n",
              "<style scoped>\n",
              "    .dataframe tbody tr th:only-of-type {\n",
              "        vertical-align: middle;\n",
              "    }\n",
              "\n",
              "    .dataframe tbody tr th {\n",
              "        vertical-align: top;\n",
              "    }\n",
              "\n",
              "    .dataframe thead th {\n",
              "        text-align: right;\n",
              "    }\n",
              "</style>\n",
              "<table border=\"1\" class=\"dataframe\">\n",
              "  <thead>\n",
              "    <tr style=\"text-align: right;\">\n",
              "      <th></th>\n",
              "      <th>marca</th>\n",
              "      <th>modelo</th>\n",
              "      <th>km</th>\n",
              "      <th>potencia</th>\n",
              "      <th>fecha_registro</th>\n",
              "      <th>tipo_gasolina</th>\n",
              "      <th>color</th>\n",
              "      <th>tipo_coche</th>\n",
              "      <th>aire_acondicionado</th>\n",
              "      <th>asientos_traseros_plegables</th>\n",
              "      <th>bluetooth</th>\n",
              "      <th>gps</th>\n",
              "      <th>alerta_lim_velocidad</th>\n",
              "      <th>precio</th>\n",
              "      <th>fecha_venta</th>\n",
              "      <th>volante_regulable_INT</th>\n",
              "      <th>camara_trasera_INT</th>\n",
              "      <th>elevalunas_electrico_INT</th>\n",
              "    </tr>\n",
              "  </thead>\n",
              "  <tbody>\n",
              "    <tr>\n",
              "      <th>0</th>\n",
              "      <td>Potential BMW</td>\n",
              "      <td>118</td>\n",
              "      <td>140411.0</td>\n",
              "      <td>100.0</td>\n",
              "      <td>2012-02-01</td>\n",
              "      <td>diesel</td>\n",
              "      <td>black</td>\n",
              "      <td>NaN</td>\n",
              "      <td>True</td>\n",
              "      <td>NaN</td>\n",
              "      <td>NaN</td>\n",
              "      <td>True</td>\n",
              "      <td>NaN</td>\n",
              "      <td>11300.0</td>\n",
              "      <td>2018-01-01</td>\n",
              "      <td>1</td>\n",
              "      <td>0</td>\n",
              "      <td>1</td>\n",
              "    </tr>\n",
              "    <tr>\n",
              "      <th>1</th>\n",
              "      <td>BMW</td>\n",
              "      <td>M4</td>\n",
              "      <td>13929.0</td>\n",
              "      <td>317.0</td>\n",
              "      <td>NaN</td>\n",
              "      <td>petrol</td>\n",
              "      <td>grey</td>\n",
              "      <td>convertible</td>\n",
              "      <td>True</td>\n",
              "      <td>NaN</td>\n",
              "      <td>True</td>\n",
              "      <td>True</td>\n",
              "      <td>True</td>\n",
              "      <td>69700.0</td>\n",
              "      <td>2018-02-01</td>\n",
              "      <td>1</td>\n",
              "      <td>0</td>\n",
              "      <td>0</td>\n",
              "    </tr>\n",
              "    <tr>\n",
              "      <th>2</th>\n",
              "      <td>BMW</td>\n",
              "      <td>425</td>\n",
              "      <td>97097.0</td>\n",
              "      <td>160.0</td>\n",
              "      <td>NaN</td>\n",
              "      <td>diesel</td>\n",
              "      <td>silver</td>\n",
              "      <td>NaN</td>\n",
              "      <td>True</td>\n",
              "      <td>False</td>\n",
              "      <td>True</td>\n",
              "      <td>True</td>\n",
              "      <td>True</td>\n",
              "      <td>33400.0</td>\n",
              "      <td>2018-04-01</td>\n",
              "      <td>1</td>\n",
              "      <td>0</td>\n",
              "      <td>0</td>\n",
              "    </tr>\n",
              "    <tr>\n",
              "      <th>3</th>\n",
              "      <td>BMW</td>\n",
              "      <td>335</td>\n",
              "      <td>152352.0</td>\n",
              "      <td>225.0</td>\n",
              "      <td>2011-05-01</td>\n",
              "      <td>petrol</td>\n",
              "      <td>black</td>\n",
              "      <td>NaN</td>\n",
              "      <td>True</td>\n",
              "      <td>False</td>\n",
              "      <td>True</td>\n",
              "      <td>True</td>\n",
              "      <td>True</td>\n",
              "      <td>17100.0</td>\n",
              "      <td>2018-02-01</td>\n",
              "      <td>1</td>\n",
              "      <td>0</td>\n",
              "      <td>1</td>\n",
              "    </tr>\n",
              "    <tr>\n",
              "      <th>4</th>\n",
              "      <td>BMW</td>\n",
              "      <td>325</td>\n",
              "      <td>205219.0</td>\n",
              "      <td>145.0</td>\n",
              "      <td>NaN</td>\n",
              "      <td>diesel</td>\n",
              "      <td>grey</td>\n",
              "      <td>convertible</td>\n",
              "      <td>True</td>\n",
              "      <td>NaN</td>\n",
              "      <td>True</td>\n",
              "      <td>True</td>\n",
              "      <td>True</td>\n",
              "      <td>12400.0</td>\n",
              "      <td>2018-02-01</td>\n",
              "      <td>1</td>\n",
              "      <td>0</td>\n",
              "      <td>1</td>\n",
              "    </tr>\n",
              "  </tbody>\n",
              "</table>\n",
              "</div>\n",
              "      <button class=\"colab-df-convert\" onclick=\"convertToInteractive('df-9462daff-14b6-43d4-a699-adad77b9186b')\"\n",
              "              title=\"Convert this dataframe to an interactive table.\"\n",
              "              style=\"display:none;\">\n",
              "\n",
              "  <svg xmlns=\"http://www.w3.org/2000/svg\" height=\"24px\"viewBox=\"0 0 24 24\"\n",
              "       width=\"24px\">\n",
              "    <path d=\"M0 0h24v24H0V0z\" fill=\"none\"/>\n",
              "    <path d=\"M18.56 5.44l.94 2.06.94-2.06 2.06-.94-2.06-.94-.94-2.06-.94 2.06-2.06.94zm-11 1L8.5 8.5l.94-2.06 2.06-.94-2.06-.94L8.5 2.5l-.94 2.06-2.06.94zm10 10l.94 2.06.94-2.06 2.06-.94-2.06-.94-.94-2.06-.94 2.06-2.06.94z\"/><path d=\"M17.41 7.96l-1.37-1.37c-.4-.4-.92-.59-1.43-.59-.52 0-1.04.2-1.43.59L10.3 9.45l-7.72 7.72c-.78.78-.78 2.05 0 2.83L4 21.41c.39.39.9.59 1.41.59.51 0 1.02-.2 1.41-.59l7.78-7.78 2.81-2.81c.8-.78.8-2.07 0-2.86zM5.41 20L4 18.59l7.72-7.72 1.47 1.35L5.41 20z\"/>\n",
              "  </svg>\n",
              "      </button>\n",
              "\n",
              "\n",
              "\n",
              "    <div id=\"df-ca2cbbb6-cc24-4a5e-816f-3976efefce89\">\n",
              "      <button class=\"colab-df-quickchart\" onclick=\"quickchart('df-ca2cbbb6-cc24-4a5e-816f-3976efefce89')\"\n",
              "              title=\"Suggest charts.\"\n",
              "              style=\"display:none;\">\n",
              "\n",
              "<svg xmlns=\"http://www.w3.org/2000/svg\" height=\"24px\"viewBox=\"0 0 24 24\"\n",
              "     width=\"24px\">\n",
              "    <g>\n",
              "        <path d=\"M19 3H5c-1.1 0-2 .9-2 2v14c0 1.1.9 2 2 2h14c1.1 0 2-.9 2-2V5c0-1.1-.9-2-2-2zM9 17H7v-7h2v7zm4 0h-2V7h2v10zm4 0h-2v-4h2v4z\"/>\n",
              "    </g>\n",
              "</svg>\n",
              "      </button>\n",
              "    </div>\n",
              "\n",
              "<style>\n",
              "  .colab-df-quickchart {\n",
              "    background-color: #E8F0FE;\n",
              "    border: none;\n",
              "    border-radius: 50%;\n",
              "    cursor: pointer;\n",
              "    display: none;\n",
              "    fill: #1967D2;\n",
              "    height: 32px;\n",
              "    padding: 0 0 0 0;\n",
              "    width: 32px;\n",
              "  }\n",
              "\n",
              "  .colab-df-quickchart:hover {\n",
              "    background-color: #E2EBFA;\n",
              "    box-shadow: 0px 1px 2px rgba(60, 64, 67, 0.3), 0px 1px 3px 1px rgba(60, 64, 67, 0.15);\n",
              "    fill: #174EA6;\n",
              "  }\n",
              "\n",
              "  [theme=dark] .colab-df-quickchart {\n",
              "    background-color: #3B4455;\n",
              "    fill: #D2E3FC;\n",
              "  }\n",
              "\n",
              "  [theme=dark] .colab-df-quickchart:hover {\n",
              "    background-color: #434B5C;\n",
              "    box-shadow: 0px 1px 3px 1px rgba(0, 0, 0, 0.15);\n",
              "    filter: drop-shadow(0px 1px 2px rgba(0, 0, 0, 0.3));\n",
              "    fill: #FFFFFF;\n",
              "  }\n",
              "</style>\n",
              "\n",
              "    <script>\n",
              "      async function quickchart(key) {\n",
              "        const containerElement = document.querySelector('#' + key);\n",
              "        const charts = await google.colab.kernel.invokeFunction(\n",
              "            'suggestCharts', [key], {});\n",
              "      }\n",
              "    </script>\n",
              "\n",
              "      <script>\n",
              "\n",
              "function displayQuickchartButton(domScope) {\n",
              "  let quickchartButtonEl =\n",
              "    domScope.querySelector('#df-ca2cbbb6-cc24-4a5e-816f-3976efefce89 button.colab-df-quickchart');\n",
              "  quickchartButtonEl.style.display =\n",
              "    google.colab.kernel.accessAllowed ? 'block' : 'none';\n",
              "}\n",
              "\n",
              "        displayQuickchartButton(document);\n",
              "      </script>\n",
              "      <style>\n",
              "    .colab-df-container {\n",
              "      display:flex;\n",
              "      flex-wrap:wrap;\n",
              "      gap: 12px;\n",
              "    }\n",
              "\n",
              "    .colab-df-convert {\n",
              "      background-color: #E8F0FE;\n",
              "      border: none;\n",
              "      border-radius: 50%;\n",
              "      cursor: pointer;\n",
              "      display: none;\n",
              "      fill: #1967D2;\n",
              "      height: 32px;\n",
              "      padding: 0 0 0 0;\n",
              "      width: 32px;\n",
              "    }\n",
              "\n",
              "    .colab-df-convert:hover {\n",
              "      background-color: #E2EBFA;\n",
              "      box-shadow: 0px 1px 2px rgba(60, 64, 67, 0.3), 0px 1px 3px 1px rgba(60, 64, 67, 0.15);\n",
              "      fill: #174EA6;\n",
              "    }\n",
              "\n",
              "    [theme=dark] .colab-df-convert {\n",
              "      background-color: #3B4455;\n",
              "      fill: #D2E3FC;\n",
              "    }\n",
              "\n",
              "    [theme=dark] .colab-df-convert:hover {\n",
              "      background-color: #434B5C;\n",
              "      box-shadow: 0px 1px 3px 1px rgba(0, 0, 0, 0.15);\n",
              "      filter: drop-shadow(0px 1px 2px rgba(0, 0, 0, 0.3));\n",
              "      fill: #FFFFFF;\n",
              "    }\n",
              "  </style>\n",
              "\n",
              "      <script>\n",
              "        const buttonEl =\n",
              "          document.querySelector('#df-9462daff-14b6-43d4-a699-adad77b9186b button.colab-df-convert');\n",
              "        buttonEl.style.display =\n",
              "          google.colab.kernel.accessAllowed ? 'block' : 'none';\n",
              "\n",
              "        async function convertToInteractive(key) {\n",
              "          const element = document.querySelector('#df-9462daff-14b6-43d4-a699-adad77b9186b');\n",
              "          const dataTable =\n",
              "            await google.colab.kernel.invokeFunction('convertToInteractive',\n",
              "                                                     [key], {});\n",
              "          if (!dataTable) return;\n",
              "\n",
              "          const docLinkHtml = 'Like what you see? Visit the ' +\n",
              "            '<a target=\"_blank\" href=https://colab.research.google.com/notebooks/data_table.ipynb>data table notebook</a>'\n",
              "            + ' to learn more about interactive tables.';\n",
              "          element.innerHTML = '';\n",
              "          dataTable['output_type'] = 'display_data';\n",
              "          await google.colab.output.renderOutput(dataTable, element);\n",
              "          const docLink = document.createElement('div');\n",
              "          docLink.innerHTML = docLinkHtml;\n",
              "          element.appendChild(docLink);\n",
              "        }\n",
              "      </script>\n",
              "    </div>\n",
              "  </div>\n"
            ]
          },
          "metadata": {},
          "execution_count": 705
        }
      ]
    },
    {
      "cell_type": "code",
      "source": [
        "df_2.info()"
      ],
      "metadata": {
        "colab": {
          "base_uri": "https://localhost:8080/"
        },
        "id": "wp_Odjy1dqTR",
        "outputId": "bed785f9-0283-4f7b-84f8-9139d1e700c3"
      },
      "execution_count": null,
      "outputs": [
        {
          "output_type": "stream",
          "name": "stdout",
          "text": [
            "<class 'pandas.core.frame.DataFrame'>\n",
            "RangeIndex: 4815 entries, 0 to 4814\n",
            "Data columns (total 18 columns):\n",
            " #   Column                       Non-Null Count  Dtype  \n",
            "---  ------                       --------------  -----  \n",
            " 0   marca                        4815 non-null   object \n",
            " 1   modelo                       4815 non-null   object \n",
            " 2   km                           4815 non-null   float64\n",
            " 3   potencia                     4815 non-null   float64\n",
            " 4   fecha_registro               2407 non-null   object \n",
            " 5   tipo_gasolina                4815 non-null   object \n",
            " 6   color                        4373 non-null   object \n",
            " 7   tipo_coche                   3367 non-null   object \n",
            " 8   aire_acondicionado           4333 non-null   object \n",
            " 9   asientos_traseros_plegables  1444 non-null   object \n",
            " 10  bluetooth                    4090 non-null   object \n",
            " 11  gps                          4815 non-null   bool   \n",
            " 12  alerta_lim_velocidad         4091 non-null   object \n",
            " 13  precio                       4815 non-null   float64\n",
            " 14  fecha_venta                  4815 non-null   object \n",
            " 15  volante_regulable_INT        4815 non-null   int64  \n",
            " 16  camara_trasera_INT           4815 non-null   int64  \n",
            " 17  elevalunas_electrico_INT     4815 non-null   int64  \n",
            "dtypes: bool(1), float64(3), int64(3), object(11)\n",
            "memory usage: 644.3+ KB\n"
          ]
        }
      ]
    },
    {
      "cell_type": "code",
      "source": [
        "df_2['fecha_venta'] = pd.to_datetime(df_2['fecha_venta'])"
      ],
      "metadata": {
        "id": "lEXTnobJq9pa"
      },
      "execution_count": null,
      "outputs": []
    },
    {
      "cell_type": "code",
      "source": [
        "\n",
        "for col in ['fecha_venta']:\n",
        "    df_2[col + '_DIA'] = df_2[col].dt.day\n",
        "    df_2[col + '_MES'] = df_2[col].dt.month\n",
        "    df_2[col + '_ANYO'] = df_2[col].dt.year\n",
        "    del df_2[col]\n",
        "\n",
        "df_2.head()"
      ],
      "metadata": {
        "colab": {
          "base_uri": "https://localhost:8080/",
          "height": 288
        },
        "id": "oezIUjagqUwk",
        "outputId": "7e1454a0-ea56-4209-e762-143bb47fcdea"
      },
      "execution_count": null,
      "outputs": [
        {
          "output_type": "execute_result",
          "data": {
            "text/plain": [
              "           marca modelo        km  potencia fecha_registro tipo_gasolina  \\\n",
              "0  Potential BMW    118  140411.0     100.0     2012-02-01        diesel   \n",
              "1            BMW     M4   13929.0     317.0            NaN        petrol   \n",
              "2            BMW    425   97097.0     160.0            NaN        diesel   \n",
              "3            BMW    335  152352.0     225.0     2011-05-01        petrol   \n",
              "4            BMW    325  205219.0     145.0            NaN        diesel   \n",
              "\n",
              "    color   tipo_coche aire_acondicionado asientos_traseros_plegables  \\\n",
              "0   black          NaN               True                         NaN   \n",
              "1    grey  convertible               True                         NaN   \n",
              "2  silver          NaN               True                       False   \n",
              "3   black          NaN               True                       False   \n",
              "4    grey  convertible               True                         NaN   \n",
              "\n",
              "  bluetooth   gps alerta_lim_velocidad   precio  volante_regulable_INT  \\\n",
              "0       NaN  True                  NaN  11300.0                      1   \n",
              "1      True  True                 True  69700.0                      1   \n",
              "2      True  True                 True  33400.0                      1   \n",
              "3      True  True                 True  17100.0                      1   \n",
              "4      True  True                 True  12400.0                      1   \n",
              "\n",
              "   camara_trasera_INT  elevalunas_electrico_INT  fecha_venta_DIA  \\\n",
              "0                   0                         1                1   \n",
              "1                   0                         0                1   \n",
              "2                   0                         0                1   \n",
              "3                   0                         1                1   \n",
              "4                   0                         1                1   \n",
              "\n",
              "   fecha_venta_MES  fecha_venta_ANYO  \n",
              "0                1              2018  \n",
              "1                2              2018  \n",
              "2                4              2018  \n",
              "3                2              2018  \n",
              "4                2              2018  "
            ],
            "text/html": [
              "\n",
              "\n",
              "  <div id=\"df-8046e54d-c9ea-4195-80ce-dc07e27f67ac\">\n",
              "    <div class=\"colab-df-container\">\n",
              "      <div>\n",
              "<style scoped>\n",
              "    .dataframe tbody tr th:only-of-type {\n",
              "        vertical-align: middle;\n",
              "    }\n",
              "\n",
              "    .dataframe tbody tr th {\n",
              "        vertical-align: top;\n",
              "    }\n",
              "\n",
              "    .dataframe thead th {\n",
              "        text-align: right;\n",
              "    }\n",
              "</style>\n",
              "<table border=\"1\" class=\"dataframe\">\n",
              "  <thead>\n",
              "    <tr style=\"text-align: right;\">\n",
              "      <th></th>\n",
              "      <th>marca</th>\n",
              "      <th>modelo</th>\n",
              "      <th>km</th>\n",
              "      <th>potencia</th>\n",
              "      <th>fecha_registro</th>\n",
              "      <th>tipo_gasolina</th>\n",
              "      <th>color</th>\n",
              "      <th>tipo_coche</th>\n",
              "      <th>aire_acondicionado</th>\n",
              "      <th>asientos_traseros_plegables</th>\n",
              "      <th>bluetooth</th>\n",
              "      <th>gps</th>\n",
              "      <th>alerta_lim_velocidad</th>\n",
              "      <th>precio</th>\n",
              "      <th>volante_regulable_INT</th>\n",
              "      <th>camara_trasera_INT</th>\n",
              "      <th>elevalunas_electrico_INT</th>\n",
              "      <th>fecha_venta_DIA</th>\n",
              "      <th>fecha_venta_MES</th>\n",
              "      <th>fecha_venta_ANYO</th>\n",
              "    </tr>\n",
              "  </thead>\n",
              "  <tbody>\n",
              "    <tr>\n",
              "      <th>0</th>\n",
              "      <td>Potential BMW</td>\n",
              "      <td>118</td>\n",
              "      <td>140411.0</td>\n",
              "      <td>100.0</td>\n",
              "      <td>2012-02-01</td>\n",
              "      <td>diesel</td>\n",
              "      <td>black</td>\n",
              "      <td>NaN</td>\n",
              "      <td>True</td>\n",
              "      <td>NaN</td>\n",
              "      <td>NaN</td>\n",
              "      <td>True</td>\n",
              "      <td>NaN</td>\n",
              "      <td>11300.0</td>\n",
              "      <td>1</td>\n",
              "      <td>0</td>\n",
              "      <td>1</td>\n",
              "      <td>1</td>\n",
              "      <td>1</td>\n",
              "      <td>2018</td>\n",
              "    </tr>\n",
              "    <tr>\n",
              "      <th>1</th>\n",
              "      <td>BMW</td>\n",
              "      <td>M4</td>\n",
              "      <td>13929.0</td>\n",
              "      <td>317.0</td>\n",
              "      <td>NaN</td>\n",
              "      <td>petrol</td>\n",
              "      <td>grey</td>\n",
              "      <td>convertible</td>\n",
              "      <td>True</td>\n",
              "      <td>NaN</td>\n",
              "      <td>True</td>\n",
              "      <td>True</td>\n",
              "      <td>True</td>\n",
              "      <td>69700.0</td>\n",
              "      <td>1</td>\n",
              "      <td>0</td>\n",
              "      <td>0</td>\n",
              "      <td>1</td>\n",
              "      <td>2</td>\n",
              "      <td>2018</td>\n",
              "    </tr>\n",
              "    <tr>\n",
              "      <th>2</th>\n",
              "      <td>BMW</td>\n",
              "      <td>425</td>\n",
              "      <td>97097.0</td>\n",
              "      <td>160.0</td>\n",
              "      <td>NaN</td>\n",
              "      <td>diesel</td>\n",
              "      <td>silver</td>\n",
              "      <td>NaN</td>\n",
              "      <td>True</td>\n",
              "      <td>False</td>\n",
              "      <td>True</td>\n",
              "      <td>True</td>\n",
              "      <td>True</td>\n",
              "      <td>33400.0</td>\n",
              "      <td>1</td>\n",
              "      <td>0</td>\n",
              "      <td>0</td>\n",
              "      <td>1</td>\n",
              "      <td>4</td>\n",
              "      <td>2018</td>\n",
              "    </tr>\n",
              "    <tr>\n",
              "      <th>3</th>\n",
              "      <td>BMW</td>\n",
              "      <td>335</td>\n",
              "      <td>152352.0</td>\n",
              "      <td>225.0</td>\n",
              "      <td>2011-05-01</td>\n",
              "      <td>petrol</td>\n",
              "      <td>black</td>\n",
              "      <td>NaN</td>\n",
              "      <td>True</td>\n",
              "      <td>False</td>\n",
              "      <td>True</td>\n",
              "      <td>True</td>\n",
              "      <td>True</td>\n",
              "      <td>17100.0</td>\n",
              "      <td>1</td>\n",
              "      <td>0</td>\n",
              "      <td>1</td>\n",
              "      <td>1</td>\n",
              "      <td>2</td>\n",
              "      <td>2018</td>\n",
              "    </tr>\n",
              "    <tr>\n",
              "      <th>4</th>\n",
              "      <td>BMW</td>\n",
              "      <td>325</td>\n",
              "      <td>205219.0</td>\n",
              "      <td>145.0</td>\n",
              "      <td>NaN</td>\n",
              "      <td>diesel</td>\n",
              "      <td>grey</td>\n",
              "      <td>convertible</td>\n",
              "      <td>True</td>\n",
              "      <td>NaN</td>\n",
              "      <td>True</td>\n",
              "      <td>True</td>\n",
              "      <td>True</td>\n",
              "      <td>12400.0</td>\n",
              "      <td>1</td>\n",
              "      <td>0</td>\n",
              "      <td>1</td>\n",
              "      <td>1</td>\n",
              "      <td>2</td>\n",
              "      <td>2018</td>\n",
              "    </tr>\n",
              "  </tbody>\n",
              "</table>\n",
              "</div>\n",
              "      <button class=\"colab-df-convert\" onclick=\"convertToInteractive('df-8046e54d-c9ea-4195-80ce-dc07e27f67ac')\"\n",
              "              title=\"Convert this dataframe to an interactive table.\"\n",
              "              style=\"display:none;\">\n",
              "\n",
              "  <svg xmlns=\"http://www.w3.org/2000/svg\" height=\"24px\"viewBox=\"0 0 24 24\"\n",
              "       width=\"24px\">\n",
              "    <path d=\"M0 0h24v24H0V0z\" fill=\"none\"/>\n",
              "    <path d=\"M18.56 5.44l.94 2.06.94-2.06 2.06-.94-2.06-.94-.94-2.06-.94 2.06-2.06.94zm-11 1L8.5 8.5l.94-2.06 2.06-.94-2.06-.94L8.5 2.5l-.94 2.06-2.06.94zm10 10l.94 2.06.94-2.06 2.06-.94-2.06-.94-.94-2.06-.94 2.06-2.06.94z\"/><path d=\"M17.41 7.96l-1.37-1.37c-.4-.4-.92-.59-1.43-.59-.52 0-1.04.2-1.43.59L10.3 9.45l-7.72 7.72c-.78.78-.78 2.05 0 2.83L4 21.41c.39.39.9.59 1.41.59.51 0 1.02-.2 1.41-.59l7.78-7.78 2.81-2.81c.8-.78.8-2.07 0-2.86zM5.41 20L4 18.59l7.72-7.72 1.47 1.35L5.41 20z\"/>\n",
              "  </svg>\n",
              "      </button>\n",
              "\n",
              "\n",
              "\n",
              "    <div id=\"df-c19497d8-45d0-400f-bb1e-39be5c67138d\">\n",
              "      <button class=\"colab-df-quickchart\" onclick=\"quickchart('df-c19497d8-45d0-400f-bb1e-39be5c67138d')\"\n",
              "              title=\"Suggest charts.\"\n",
              "              style=\"display:none;\">\n",
              "\n",
              "<svg xmlns=\"http://www.w3.org/2000/svg\" height=\"24px\"viewBox=\"0 0 24 24\"\n",
              "     width=\"24px\">\n",
              "    <g>\n",
              "        <path d=\"M19 3H5c-1.1 0-2 .9-2 2v14c0 1.1.9 2 2 2h14c1.1 0 2-.9 2-2V5c0-1.1-.9-2-2-2zM9 17H7v-7h2v7zm4 0h-2V7h2v10zm4 0h-2v-4h2v4z\"/>\n",
              "    </g>\n",
              "</svg>\n",
              "      </button>\n",
              "    </div>\n",
              "\n",
              "<style>\n",
              "  .colab-df-quickchart {\n",
              "    background-color: #E8F0FE;\n",
              "    border: none;\n",
              "    border-radius: 50%;\n",
              "    cursor: pointer;\n",
              "    display: none;\n",
              "    fill: #1967D2;\n",
              "    height: 32px;\n",
              "    padding: 0 0 0 0;\n",
              "    width: 32px;\n",
              "  }\n",
              "\n",
              "  .colab-df-quickchart:hover {\n",
              "    background-color: #E2EBFA;\n",
              "    box-shadow: 0px 1px 2px rgba(60, 64, 67, 0.3), 0px 1px 3px 1px rgba(60, 64, 67, 0.15);\n",
              "    fill: #174EA6;\n",
              "  }\n",
              "\n",
              "  [theme=dark] .colab-df-quickchart {\n",
              "    background-color: #3B4455;\n",
              "    fill: #D2E3FC;\n",
              "  }\n",
              "\n",
              "  [theme=dark] .colab-df-quickchart:hover {\n",
              "    background-color: #434B5C;\n",
              "    box-shadow: 0px 1px 3px 1px rgba(0, 0, 0, 0.15);\n",
              "    filter: drop-shadow(0px 1px 2px rgba(0, 0, 0, 0.3));\n",
              "    fill: #FFFFFF;\n",
              "  }\n",
              "</style>\n",
              "\n",
              "    <script>\n",
              "      async function quickchart(key) {\n",
              "        const containerElement = document.querySelector('#' + key);\n",
              "        const charts = await google.colab.kernel.invokeFunction(\n",
              "            'suggestCharts', [key], {});\n",
              "      }\n",
              "    </script>\n",
              "\n",
              "      <script>\n",
              "\n",
              "function displayQuickchartButton(domScope) {\n",
              "  let quickchartButtonEl =\n",
              "    domScope.querySelector('#df-c19497d8-45d0-400f-bb1e-39be5c67138d button.colab-df-quickchart');\n",
              "  quickchartButtonEl.style.display =\n",
              "    google.colab.kernel.accessAllowed ? 'block' : 'none';\n",
              "}\n",
              "\n",
              "        displayQuickchartButton(document);\n",
              "      </script>\n",
              "      <style>\n",
              "    .colab-df-container {\n",
              "      display:flex;\n",
              "      flex-wrap:wrap;\n",
              "      gap: 12px;\n",
              "    }\n",
              "\n",
              "    .colab-df-convert {\n",
              "      background-color: #E8F0FE;\n",
              "      border: none;\n",
              "      border-radius: 50%;\n",
              "      cursor: pointer;\n",
              "      display: none;\n",
              "      fill: #1967D2;\n",
              "      height: 32px;\n",
              "      padding: 0 0 0 0;\n",
              "      width: 32px;\n",
              "    }\n",
              "\n",
              "    .colab-df-convert:hover {\n",
              "      background-color: #E2EBFA;\n",
              "      box-shadow: 0px 1px 2px rgba(60, 64, 67, 0.3), 0px 1px 3px 1px rgba(60, 64, 67, 0.15);\n",
              "      fill: #174EA6;\n",
              "    }\n",
              "\n",
              "    [theme=dark] .colab-df-convert {\n",
              "      background-color: #3B4455;\n",
              "      fill: #D2E3FC;\n",
              "    }\n",
              "\n",
              "    [theme=dark] .colab-df-convert:hover {\n",
              "      background-color: #434B5C;\n",
              "      box-shadow: 0px 1px 3px 1px rgba(0, 0, 0, 0.15);\n",
              "      filter: drop-shadow(0px 1px 2px rgba(0, 0, 0, 0.3));\n",
              "      fill: #FFFFFF;\n",
              "    }\n",
              "  </style>\n",
              "\n",
              "      <script>\n",
              "        const buttonEl =\n",
              "          document.querySelector('#df-8046e54d-c9ea-4195-80ce-dc07e27f67ac button.colab-df-convert');\n",
              "        buttonEl.style.display =\n",
              "          google.colab.kernel.accessAllowed ? 'block' : 'none';\n",
              "\n",
              "        async function convertToInteractive(key) {\n",
              "          const element = document.querySelector('#df-8046e54d-c9ea-4195-80ce-dc07e27f67ac');\n",
              "          const dataTable =\n",
              "            await google.colab.kernel.invokeFunction('convertToInteractive',\n",
              "                                                     [key], {});\n",
              "          if (!dataTable) return;\n",
              "\n",
              "          const docLinkHtml = 'Like what you see? Visit the ' +\n",
              "            '<a target=\"_blank\" href=https://colab.research.google.com/notebooks/data_table.ipynb>data table notebook</a>'\n",
              "            + ' to learn more about interactive tables.';\n",
              "          element.innerHTML = '';\n",
              "          dataTable['output_type'] = 'display_data';\n",
              "          await google.colab.output.renderOutput(dataTable, element);\n",
              "          const docLink = document.createElement('div');\n",
              "          docLink.innerHTML = docLinkHtml;\n",
              "          element.appendChild(docLink);\n",
              "        }\n",
              "      </script>\n",
              "    </div>\n",
              "  </div>\n"
            ]
          },
          "metadata": {},
          "execution_count": 708
        }
      ]
    },
    {
      "cell_type": "code",
      "source": [],
      "metadata": {
        "id": "IXDGnP4Oq9Ag"
      },
      "execution_count": null,
      "outputs": []
    },
    {
      "cell_type": "code",
      "source": [
        "percentage_delated_entries = (len(df_2)-len(df))/len(df)*100\n",
        "percentage_delated_entries\n",
        "\n",
        "# 0,5% --> OK"
      ],
      "metadata": {
        "colab": {
          "base_uri": "https://localhost:8080/"
        },
        "id": "-zIZcCZqdqWj",
        "outputId": "81c142d1-146d-40ea-b129-5559a9ba3269"
      },
      "execution_count": null,
      "outputs": [
        {
          "output_type": "execute_result",
          "data": {
            "text/plain": [
              "-0.5781540367540781"
            ]
          },
          "metadata": {},
          "execution_count": 709
        }
      ]
    },
    {
      "cell_type": "code",
      "source": [
        "df_2.isnull().sum()"
      ],
      "metadata": {
        "colab": {
          "base_uri": "https://localhost:8080/"
        },
        "id": "VXOVJzlheVkF",
        "outputId": "c727066c-7a56-4b74-fa9f-f0e58e7592f0"
      },
      "execution_count": null,
      "outputs": [
        {
          "output_type": "execute_result",
          "data": {
            "text/plain": [
              "marca                             0\n",
              "modelo                            0\n",
              "km                                0\n",
              "potencia                          0\n",
              "fecha_registro                 2408\n",
              "tipo_gasolina                     0\n",
              "color                           442\n",
              "tipo_coche                     1448\n",
              "aire_acondicionado              482\n",
              "asientos_traseros_plegables    3371\n",
              "bluetooth                       725\n",
              "gps                               0\n",
              "alerta_lim_velocidad            724\n",
              "precio                            0\n",
              "volante_regulable_INT             0\n",
              "camara_trasera_INT                0\n",
              "elevalunas_electrico_INT          0\n",
              "fecha_venta_DIA                   0\n",
              "fecha_venta_MES                   0\n",
              "fecha_venta_ANYO                  0\n",
              "dtype: int64"
            ]
          },
          "metadata": {},
          "execution_count": 710
        }
      ]
    },
    {
      "cell_type": "code",
      "source": [
        "df_2.info()"
      ],
      "metadata": {
        "colab": {
          "base_uri": "https://localhost:8080/"
        },
        "id": "AlHD1utbeg3F",
        "outputId": "92e19735-c28e-492e-bd61-5b1e8acda10d"
      },
      "execution_count": null,
      "outputs": [
        {
          "output_type": "stream",
          "name": "stdout",
          "text": [
            "<class 'pandas.core.frame.DataFrame'>\n",
            "RangeIndex: 4815 entries, 0 to 4814\n",
            "Data columns (total 20 columns):\n",
            " #   Column                       Non-Null Count  Dtype  \n",
            "---  ------                       --------------  -----  \n",
            " 0   marca                        4815 non-null   object \n",
            " 1   modelo                       4815 non-null   object \n",
            " 2   km                           4815 non-null   float64\n",
            " 3   potencia                     4815 non-null   float64\n",
            " 4   fecha_registro               2407 non-null   object \n",
            " 5   tipo_gasolina                4815 non-null   object \n",
            " 6   color                        4373 non-null   object \n",
            " 7   tipo_coche                   3367 non-null   object \n",
            " 8   aire_acondicionado           4333 non-null   object \n",
            " 9   asientos_traseros_plegables  1444 non-null   object \n",
            " 10  bluetooth                    4090 non-null   object \n",
            " 11  gps                          4815 non-null   bool   \n",
            " 12  alerta_lim_velocidad         4091 non-null   object \n",
            " 13  precio                       4815 non-null   float64\n",
            " 14  volante_regulable_INT        4815 non-null   int64  \n",
            " 15  camara_trasera_INT           4815 non-null   int64  \n",
            " 16  elevalunas_electrico_INT     4815 non-null   int64  \n",
            " 17  fecha_venta_DIA              4815 non-null   int64  \n",
            " 18  fecha_venta_MES              4815 non-null   int64  \n",
            " 19  fecha_venta_ANYO             4815 non-null   int64  \n",
            "dtypes: bool(1), float64(3), int64(6), object(10)\n",
            "memory usage: 719.6+ KB\n"
          ]
        }
      ]
    },
    {
      "cell_type": "code",
      "source": [
        "#3.10. asientos_traseros_plegables\n",
        "\n",
        "#borramos la variable asientos_traseros_plegables ya que nos un 70% de los datos son nulos,\n",
        "#la manipulacion de los nulos (es decir, borrarlos o crear una categoria para ellos, generaria mucha distorcion en nuestro data set)\n",
        "\n",
        "3373/4816"
      ],
      "metadata": {
        "colab": {
          "base_uri": "https://localhost:8080/"
        },
        "id": "zdEDv8Arelua",
        "outputId": "c69a3e2c-34bb-4655-831b-d77e58aea9bd"
      },
      "execution_count": null,
      "outputs": [
        {
          "output_type": "execute_result",
          "data": {
            "text/plain": [
              "0.7003737541528239"
            ]
          },
          "metadata": {},
          "execution_count": 712
        }
      ]
    },
    {
      "cell_type": "code",
      "source": [
        "df_2[\"asientos_traseros_plegables\"].value_counts()"
      ],
      "metadata": {
        "colab": {
          "base_uri": "https://localhost:8080/"
        },
        "id": "be3nb_JvetsY",
        "outputId": "25630c23-bd02-45c3-c6ed-78d26cb66a2c"
      },
      "execution_count": null,
      "outputs": [
        {
          "output_type": "execute_result",
          "data": {
            "text/plain": [
              "False    1143\n",
              "True      301\n",
              "Name: asientos_traseros_plegables, dtype: int64"
            ]
          },
          "metadata": {},
          "execution_count": 713
        }
      ]
    },
    {
      "cell_type": "code",
      "source": [
        "#copia\n",
        "df_3 = df_2.copy()"
      ],
      "metadata": {
        "id": "trPzdr4ZelxA"
      },
      "execution_count": null,
      "outputs": []
    },
    {
      "cell_type": "code",
      "source": [
        "df_3.drop(['asientos_traseros_plegables'], axis = 1, inplace = True)"
      ],
      "metadata": {
        "id": "1pKVVe2IelzT"
      },
      "execution_count": null,
      "outputs": []
    },
    {
      "cell_type": "code",
      "source": [
        "df_3.info()"
      ],
      "metadata": {
        "colab": {
          "base_uri": "https://localhost:8080/"
        },
        "id": "yDV9Wb-Vel1i",
        "outputId": "9f80bb0b-991e-4611-bfc9-3e38e1199979"
      },
      "execution_count": null,
      "outputs": [
        {
          "output_type": "stream",
          "name": "stdout",
          "text": [
            "<class 'pandas.core.frame.DataFrame'>\n",
            "RangeIndex: 4815 entries, 0 to 4814\n",
            "Data columns (total 19 columns):\n",
            " #   Column                    Non-Null Count  Dtype  \n",
            "---  ------                    --------------  -----  \n",
            " 0   marca                     4815 non-null   object \n",
            " 1   modelo                    4815 non-null   object \n",
            " 2   km                        4815 non-null   float64\n",
            " 3   potencia                  4815 non-null   float64\n",
            " 4   fecha_registro            2407 non-null   object \n",
            " 5   tipo_gasolina             4815 non-null   object \n",
            " 6   color                     4373 non-null   object \n",
            " 7   tipo_coche                3367 non-null   object \n",
            " 8   aire_acondicionado        4333 non-null   object \n",
            " 9   bluetooth                 4090 non-null   object \n",
            " 10  gps                       4815 non-null   bool   \n",
            " 11  alerta_lim_velocidad      4091 non-null   object \n",
            " 12  precio                    4815 non-null   float64\n",
            " 13  volante_regulable_INT     4815 non-null   int64  \n",
            " 14  camara_trasera_INT        4815 non-null   int64  \n",
            " 15  elevalunas_electrico_INT  4815 non-null   int64  \n",
            " 16  fecha_venta_DIA           4815 non-null   int64  \n",
            " 17  fecha_venta_MES           4815 non-null   int64  \n",
            " 18  fecha_venta_ANYO          4815 non-null   int64  \n",
            "dtypes: bool(1), float64(3), int64(6), object(9)\n",
            "memory usage: 681.9+ KB\n"
          ]
        }
      ]
    },
    {
      "cell_type": "code",
      "source": [
        "#3.11. bluetooth\n",
        "\n",
        "df_3.value_counts('bluetooth')"
      ],
      "metadata": {
        "colab": {
          "base_uri": "https://localhost:8080/"
        },
        "id": "5OTwOSerel3x",
        "outputId": "0ea5a5d2-97d4-4385-a3ea-206282eaef95"
      },
      "execution_count": null,
      "outputs": [
        {
          "output_type": "execute_result",
          "data": {
            "text/plain": [
              "bluetooth\n",
              "False    3100\n",
              "True      990\n",
              "dtype: int64"
            ]
          },
          "metadata": {},
          "execution_count": 717
        }
      ]
    },
    {
      "cell_type": "code",
      "source": [
        "df_3.value_counts('bluetooth')"
      ],
      "metadata": {
        "colab": {
          "base_uri": "https://localhost:8080/"
        },
        "id": "4cTirw0shGx_",
        "outputId": "314a2ef0-9084-4957-8f4c-5b938f4948e5"
      },
      "execution_count": null,
      "outputs": [
        {
          "output_type": "execute_result",
          "data": {
            "text/plain": [
              "bluetooth\n",
              "False    3100\n",
              "True      990\n",
              "dtype: int64"
            ]
          },
          "metadata": {},
          "execution_count": 718
        }
      ]
    },
    {
      "cell_type": "code",
      "source": [
        "le = LabelEncoder()"
      ],
      "metadata": {
        "id": "XE7bX0rOhPU1"
      },
      "execution_count": null,
      "outputs": []
    },
    {
      "cell_type": "code",
      "source": [
        "df_3[\"bluetooth_INT\"]=le.fit_transform(df_3[\"bluetooth\"])"
      ],
      "metadata": {
        "id": "TiraNYAFhPXM"
      },
      "execution_count": null,
      "outputs": []
    },
    {
      "cell_type": "code",
      "source": [
        "df_3.value_counts('bluetooth_INT')\n",
        "\n",
        "#la categoria 2 es \"no definido si tiene bluetooth\""
      ],
      "metadata": {
        "colab": {
          "base_uri": "https://localhost:8080/"
        },
        "id": "hc3PANdFhPZi",
        "outputId": "3d8be218-8739-4c69-c6c2-652bc4496dd0"
      },
      "execution_count": null,
      "outputs": [
        {
          "output_type": "execute_result",
          "data": {
            "text/plain": [
              "bluetooth_INT\n",
              "0    3100\n",
              "1     990\n",
              "2     725\n",
              "dtype: int64"
            ]
          },
          "metadata": {},
          "execution_count": 721
        }
      ]
    },
    {
      "cell_type": "code",
      "source": [
        "df_3.isnull().sum()"
      ],
      "metadata": {
        "colab": {
          "base_uri": "https://localhost:8080/"
        },
        "id": "niJOd4d1hPbr",
        "outputId": "8fb7a458-8eb1-42c1-c9ba-0436986d4de9"
      },
      "execution_count": null,
      "outputs": [
        {
          "output_type": "execute_result",
          "data": {
            "text/plain": [
              "marca                          0\n",
              "modelo                         0\n",
              "km                             0\n",
              "potencia                       0\n",
              "fecha_registro              2408\n",
              "tipo_gasolina                  0\n",
              "color                        442\n",
              "tipo_coche                  1448\n",
              "aire_acondicionado           482\n",
              "bluetooth                    725\n",
              "gps                            0\n",
              "alerta_lim_velocidad         724\n",
              "precio                         0\n",
              "volante_regulable_INT          0\n",
              "camara_trasera_INT             0\n",
              "elevalunas_electrico_INT       0\n",
              "fecha_venta_DIA                0\n",
              "fecha_venta_MES                0\n",
              "fecha_venta_ANYO               0\n",
              "bluetooth_INT                  0\n",
              "dtype: int64"
            ]
          },
          "metadata": {},
          "execution_count": 722
        }
      ]
    },
    {
      "cell_type": "code",
      "source": [
        "df_3[\"bluetooth_INT\"].fillna(\"not known\",inplace=True)"
      ],
      "metadata": {
        "id": "kGHIhNsPhPdw"
      },
      "execution_count": null,
      "outputs": []
    },
    {
      "cell_type": "code",
      "source": [
        "df_3.isnull().sum()"
      ],
      "metadata": {
        "colab": {
          "base_uri": "https://localhost:8080/"
        },
        "id": "TGaafllThPf_",
        "outputId": "c9074699-88e9-4208-bac2-f8b8fde3bd08"
      },
      "execution_count": null,
      "outputs": [
        {
          "output_type": "execute_result",
          "data": {
            "text/plain": [
              "marca                          0\n",
              "modelo                         0\n",
              "km                             0\n",
              "potencia                       0\n",
              "fecha_registro              2408\n",
              "tipo_gasolina                  0\n",
              "color                        442\n",
              "tipo_coche                  1448\n",
              "aire_acondicionado           482\n",
              "bluetooth                    725\n",
              "gps                            0\n",
              "alerta_lim_velocidad         724\n",
              "precio                         0\n",
              "volante_regulable_INT          0\n",
              "camara_trasera_INT             0\n",
              "elevalunas_electrico_INT       0\n",
              "fecha_venta_DIA                0\n",
              "fecha_venta_MES                0\n",
              "fecha_venta_ANYO               0\n",
              "bluetooth_INT                  0\n",
              "dtype: int64"
            ]
          },
          "metadata": {},
          "execution_count": 724
        }
      ]
    },
    {
      "cell_type": "code",
      "source": [
        "df_3.value_counts('bluetooth_INT')"
      ],
      "metadata": {
        "colab": {
          "base_uri": "https://localhost:8080/"
        },
        "id": "cv1OGvzRnPQF",
        "outputId": "75310516-d84d-4e68-d784-1314d0cfe90b"
      },
      "execution_count": null,
      "outputs": [
        {
          "output_type": "execute_result",
          "data": {
            "text/plain": [
              "bluetooth_INT\n",
              "0    3100\n",
              "1     990\n",
              "2     725\n",
              "dtype: int64"
            ]
          },
          "metadata": {},
          "execution_count": 725
        }
      ]
    },
    {
      "cell_type": "code",
      "source": [
        "#borramos la coulumna bluetooth\n",
        "df_3.drop(['bluetooth'], axis = 1, inplace = True)"
      ],
      "metadata": {
        "id": "anovGiKunPSe"
      },
      "execution_count": null,
      "outputs": []
    },
    {
      "cell_type": "code",
      "source": [
        "df_3.isnull().sum()"
      ],
      "metadata": {
        "colab": {
          "base_uri": "https://localhost:8080/"
        },
        "id": "mPo15xRlnPUv",
        "outputId": "88f8093d-3e8e-40ef-b0dc-f28bc807ba4c"
      },
      "execution_count": null,
      "outputs": [
        {
          "output_type": "execute_result",
          "data": {
            "text/plain": [
              "marca                          0\n",
              "modelo                         0\n",
              "km                             0\n",
              "potencia                       0\n",
              "fecha_registro              2408\n",
              "tipo_gasolina                  0\n",
              "color                        442\n",
              "tipo_coche                  1448\n",
              "aire_acondicionado           482\n",
              "gps                            0\n",
              "alerta_lim_velocidad         724\n",
              "precio                         0\n",
              "volante_regulable_INT          0\n",
              "camara_trasera_INT             0\n",
              "elevalunas_electrico_INT       0\n",
              "fecha_venta_DIA                0\n",
              "fecha_venta_MES                0\n",
              "fecha_venta_ANYO               0\n",
              "bluetooth_INT                  0\n",
              "dtype: int64"
            ]
          },
          "metadata": {},
          "execution_count": 727
        }
      ]
    },
    {
      "cell_type": "code",
      "source": [
        "#3.12. alerta_lim_velocidad\n",
        "df_3.value_counts('alerta_lim_velocidad')"
      ],
      "metadata": {
        "colab": {
          "base_uri": "https://localhost:8080/"
        },
        "id": "My217AmEnPXK",
        "outputId": "fab056a3-835b-46c1-b61f-943814d5713a"
      },
      "execution_count": null,
      "outputs": [
        {
          "output_type": "execute_result",
          "data": {
            "text/plain": [
              "alerta_lim_velocidad\n",
              "True     2226\n",
              "False    1865\n",
              "dtype: int64"
            ]
          },
          "metadata": {},
          "execution_count": 728
        }
      ]
    },
    {
      "cell_type": "code",
      "source": [
        "df_3[\"alerta_lim_velocidad_INT\"]=le.fit_transform(df_3[\"alerta_lim_velocidad\"])"
      ],
      "metadata": {
        "id": "T6pkOdOWnPZn"
      },
      "execution_count": null,
      "outputs": []
    },
    {
      "cell_type": "code",
      "source": [
        "df_3[\"alerta_lim_velocidad_INT\"].fillna(\"not known\",inplace=True) #--> creamos categoria 2 que son los valores no conocidos"
      ],
      "metadata": {
        "id": "b1cjFYvHnsNK"
      },
      "execution_count": null,
      "outputs": []
    },
    {
      "cell_type": "code",
      "source": [
        "df_3.value_counts('alerta_lim_velocidad_INT')"
      ],
      "metadata": {
        "colab": {
          "base_uri": "https://localhost:8080/"
        },
        "id": "d8JCs8l5nsVJ",
        "outputId": "ff811eff-3e07-42f5-8216-4f3f08132839"
      },
      "execution_count": null,
      "outputs": [
        {
          "output_type": "execute_result",
          "data": {
            "text/plain": [
              "alerta_lim_velocidad_INT\n",
              "1    2226\n",
              "0    1865\n",
              "2     724\n",
              "dtype: int64"
            ]
          },
          "metadata": {},
          "execution_count": 731
        }
      ]
    },
    {
      "cell_type": "code",
      "source": [
        "#borramos la coulumna alerta_lim_velocidad\n",
        "df_3.drop(['alerta_lim_velocidad'], axis = 1, inplace = True)"
      ],
      "metadata": {
        "id": "p0WtOayjnsXk"
      },
      "execution_count": null,
      "outputs": []
    },
    {
      "cell_type": "code",
      "source": [
        "df_3.isnull().sum()"
      ],
      "metadata": {
        "colab": {
          "base_uri": "https://localhost:8080/"
        },
        "id": "6MDsAexXnsZ2",
        "outputId": "ff819074-0637-451c-9571-66b51f981a16"
      },
      "execution_count": null,
      "outputs": [
        {
          "output_type": "execute_result",
          "data": {
            "text/plain": [
              "marca                          0\n",
              "modelo                         0\n",
              "km                             0\n",
              "potencia                       0\n",
              "fecha_registro              2408\n",
              "tipo_gasolina                  0\n",
              "color                        442\n",
              "tipo_coche                  1448\n",
              "aire_acondicionado           482\n",
              "gps                            0\n",
              "precio                         0\n",
              "volante_regulable_INT          0\n",
              "camara_trasera_INT             0\n",
              "elevalunas_electrico_INT       0\n",
              "fecha_venta_DIA                0\n",
              "fecha_venta_MES                0\n",
              "fecha_venta_ANYO               0\n",
              "bluetooth_INT                  0\n",
              "alerta_lim_velocidad_INT       0\n",
              "dtype: int64"
            ]
          },
          "metadata": {},
          "execution_count": 733
        }
      ]
    },
    {
      "cell_type": "code",
      "source": [
        "#3.13. aire_acondicionado\n",
        "\n",
        "df_3['aire_acondicionado'].value_counts()"
      ],
      "metadata": {
        "colab": {
          "base_uri": "https://localhost:8080/"
        },
        "id": "GRfMXsonnscD",
        "outputId": "6cedc125-3d30-4e39-fc41-ea6ca2a12be9"
      },
      "execution_count": null,
      "outputs": [
        {
          "output_type": "execute_result",
          "data": {
            "text/plain": [
              "True     3448\n",
              "False     885\n",
              "Name: aire_acondicionado, dtype: int64"
            ]
          },
          "metadata": {},
          "execution_count": 734
        }
      ]
    },
    {
      "cell_type": "code",
      "source": [
        "df_3[\"aire_acondicionado_INT\"]=le.fit_transform(df_3[\"aire_acondicionado\"])"
      ],
      "metadata": {
        "id": "dBgZXsqRnseI"
      },
      "execution_count": null,
      "outputs": []
    },
    {
      "cell_type": "code",
      "source": [
        "df_3[\"aire_acondicionado_INT\"].fillna(\"not known\",inplace=True)"
      ],
      "metadata": {
        "id": "IRYsorckotiU"
      },
      "execution_count": null,
      "outputs": []
    },
    {
      "cell_type": "code",
      "source": [
        "df_3.value_counts('aire_acondicionado_INT')"
      ],
      "metadata": {
        "colab": {
          "base_uri": "https://localhost:8080/"
        },
        "id": "IjTUGkweotpj",
        "outputId": "6c451628-8a7e-4361-9477-515395cdfc37"
      },
      "execution_count": null,
      "outputs": [
        {
          "output_type": "execute_result",
          "data": {
            "text/plain": [
              "aire_acondicionado_INT\n",
              "1    3448\n",
              "0     885\n",
              "2     482\n",
              "dtype: int64"
            ]
          },
          "metadata": {},
          "execution_count": 737
        }
      ]
    },
    {
      "cell_type": "code",
      "source": [
        "df_3.drop(['aire_acondicionado'], axis = 1, inplace = True)"
      ],
      "metadata": {
        "id": "6lxtNDcYqg2L"
      },
      "execution_count": null,
      "outputs": []
    },
    {
      "cell_type": "code",
      "source": [
        "#3.14. color\n",
        "\n",
        "df_3['color'].value_counts()"
      ],
      "metadata": {
        "colab": {
          "base_uri": "https://localhost:8080/"
        },
        "id": "uGNDayuGotr-",
        "outputId": "b99644a8-1182-4dc1-ed16-bafeaae5283d"
      },
      "execution_count": null,
      "outputs": [
        {
          "output_type": "execute_result",
          "data": {
            "text/plain": [
              "black     1489\n",
              "grey      1067\n",
              "blue       643\n",
              "white      479\n",
              "brown      302\n",
              "silver     290\n",
              "red         46\n",
              "beige       37\n",
              "green       14\n",
              "orange       6\n",
              "Name: color, dtype: int64"
            ]
          },
          "metadata": {},
          "execution_count": 739
        }
      ]
    },
    {
      "cell_type": "code",
      "source": [
        "df_3[\"color\"].fillna(\"not known\",inplace=True)"
      ],
      "metadata": {
        "id": "aAsDs3R1otuX"
      },
      "execution_count": null,
      "outputs": []
    },
    {
      "cell_type": "code",
      "source": [
        "df_3['color'].value_counts()"
      ],
      "metadata": {
        "colab": {
          "base_uri": "https://localhost:8080/"
        },
        "id": "kufGgW8ppR1Y",
        "outputId": "fed26a19-cccb-400c-f84c-b760a0d63a7d"
      },
      "execution_count": null,
      "outputs": [
        {
          "output_type": "execute_result",
          "data": {
            "text/plain": [
              "black        1489\n",
              "grey         1067\n",
              "blue          643\n",
              "white         479\n",
              "not known     442\n",
              "brown         302\n",
              "silver        290\n",
              "red            46\n",
              "beige          37\n",
              "green          14\n",
              "orange          6\n",
              "Name: color, dtype: int64"
            ]
          },
          "metadata": {},
          "execution_count": 741
        }
      ]
    },
    {
      "cell_type": "code",
      "source": [
        "df_4 = df_3.copy()"
      ],
      "metadata": {
        "id": "I7PEARN7pR34"
      },
      "execution_count": null,
      "outputs": []
    },
    {
      "cell_type": "code",
      "source": [
        "#3.15. tipo_coche\n",
        "\n",
        "df_4['tipo_coche'].value_counts()"
      ],
      "metadata": {
        "colab": {
          "base_uri": "https://localhost:8080/"
        },
        "id": "LsTlOe0vpR6s",
        "outputId": "e1387217-154e-4ba5-c0c4-0f7c0189f866"
      },
      "execution_count": null,
      "outputs": [
        {
          "output_type": "execute_result",
          "data": {
            "text/plain": [
              "estate         1097\n",
              "sedan           821\n",
              "suv             754\n",
              "hatchback       488\n",
              "subcompact       77\n",
              "coupe            73\n",
              "convertible      29\n",
              "van              28\n",
              "Name: tipo_coche, dtype: int64"
            ]
          },
          "metadata": {},
          "execution_count": 743
        }
      ]
    },
    {
      "cell_type": "code",
      "source": [
        "df_4[\"tipo_coche\"].fillna(\"not known\",inplace=True)"
      ],
      "metadata": {
        "id": "HZkT626wpR9b"
      },
      "execution_count": null,
      "outputs": []
    },
    {
      "cell_type": "code",
      "source": [
        "#3.16. fecha_registro\n",
        "\n",
        "df_4['fecha_registro'].value_counts()"
      ],
      "metadata": {
        "colab": {
          "base_uri": "https://localhost:8080/"
        },
        "id": "3O2hJAjBpR-s",
        "outputId": "6c9fcd51-4128-46a3-ff45-3629921e83ed"
      },
      "execution_count": null,
      "outputs": [
        {
          "output_type": "execute_result",
          "data": {
            "text/plain": [
              "2013-07-01    93\n",
              "2014-03-01    83\n",
              "2014-05-01    80\n",
              "2013-10-01    76\n",
              "2013-01-01    76\n",
              "              ..\n",
              "2007-01-01     1\n",
              "1990-03-01     1\n",
              "2006-11-01     1\n",
              "1994-01-01     1\n",
              "2005-09-01     1\n",
              "Name: fecha_registro, Length: 180, dtype: int64"
            ]
          },
          "metadata": {},
          "execution_count": 745
        }
      ]
    },
    {
      "cell_type": "code",
      "source": [
        "df_4[\"fecha_registro\"].fillna(\"not known\",inplace=True)\n",
        "\n"
      ],
      "metadata": {
        "id": "eDwvgjUTqJRY"
      },
      "execution_count": null,
      "outputs": []
    },
    {
      "cell_type": "code",
      "source": [
        "df_4.isnull().sum()"
      ],
      "metadata": {
        "colab": {
          "base_uri": "https://localhost:8080/"
        },
        "id": "wBFG4GHpqJUI",
        "outputId": "8a70d00c-d307-4186-f6c8-577989f4b56e"
      },
      "execution_count": null,
      "outputs": [
        {
          "output_type": "execute_result",
          "data": {
            "text/plain": [
              "marca                       0\n",
              "modelo                      0\n",
              "km                          0\n",
              "potencia                    0\n",
              "fecha_registro              0\n",
              "tipo_gasolina               0\n",
              "color                       0\n",
              "tipo_coche                  0\n",
              "gps                         0\n",
              "precio                      0\n",
              "volante_regulable_INT       0\n",
              "camara_trasera_INT          0\n",
              "elevalunas_electrico_INT    0\n",
              "fecha_venta_DIA             0\n",
              "fecha_venta_MES             0\n",
              "fecha_venta_ANYO            0\n",
              "bluetooth_INT               0\n",
              "alerta_lim_velocidad_INT    0\n",
              "aire_acondicionado_INT      0\n",
              "dtype: int64"
            ]
          },
          "metadata": {},
          "execution_count": 747
        }
      ]
    },
    {
      "cell_type": "code",
      "source": [
        "# clean dataset\n",
        "\n",
        "\n",
        "df_5 = df_4.copy()"
      ],
      "metadata": {
        "id": "wqKYpnKoqJWv"
      },
      "execution_count": null,
      "outputs": []
    },
    {
      "cell_type": "code",
      "source": [
        "df_5.info()"
      ],
      "metadata": {
        "colab": {
          "base_uri": "https://localhost:8080/"
        },
        "id": "e-EvG9UQa0Tc",
        "outputId": "8348666b-6635-411c-a74b-4bc0ce0de7a7"
      },
      "execution_count": null,
      "outputs": [
        {
          "output_type": "stream",
          "name": "stdout",
          "text": [
            "<class 'pandas.core.frame.DataFrame'>\n",
            "RangeIndex: 4815 entries, 0 to 4814\n",
            "Data columns (total 19 columns):\n",
            " #   Column                    Non-Null Count  Dtype  \n",
            "---  ------                    --------------  -----  \n",
            " 0   marca                     4815 non-null   object \n",
            " 1   modelo                    4815 non-null   object \n",
            " 2   km                        4815 non-null   float64\n",
            " 3   potencia                  4815 non-null   float64\n",
            " 4   fecha_registro            4815 non-null   object \n",
            " 5   tipo_gasolina             4815 non-null   object \n",
            " 6   color                     4815 non-null   object \n",
            " 7   tipo_coche                4815 non-null   object \n",
            " 8   gps                       4815 non-null   bool   \n",
            " 9   precio                    4815 non-null   float64\n",
            " 10  volante_regulable_INT     4815 non-null   int64  \n",
            " 11  camara_trasera_INT        4815 non-null   int64  \n",
            " 12  elevalunas_electrico_INT  4815 non-null   int64  \n",
            " 13  fecha_venta_DIA           4815 non-null   int64  \n",
            " 14  fecha_venta_MES           4815 non-null   int64  \n",
            " 15  fecha_venta_ANYO          4815 non-null   int64  \n",
            " 16  bluetooth_INT             4815 non-null   int64  \n",
            " 17  alerta_lim_velocidad_INT  4815 non-null   int64  \n",
            " 18  aire_acondicionado_INT    4815 non-null   int64  \n",
            "dtypes: bool(1), float64(3), int64(9), object(6)\n",
            "memory usage: 681.9+ KB\n"
          ]
        }
      ]
    },
    {
      "cell_type": "code",
      "source": [
        "#proporción de datos perdidios durante el data cleaning; 0,53% --> OK\n",
        "\n",
        "(1-(len(df_5)/len(df)))*100"
      ],
      "metadata": {
        "colab": {
          "base_uri": "https://localhost:8080/"
        },
        "id": "y4ls-9BUa0V1",
        "outputId": "bc6b0900-2359-4c79-8058-f7579fb34ea3"
      },
      "execution_count": null,
      "outputs": [
        {
          "output_type": "execute_result",
          "data": {
            "text/plain": [
              "0.578154036754075"
            ]
          },
          "metadata": {},
          "execution_count": 750
        }
      ]
    },
    {
      "cell_type": "code",
      "source": [
        "df_5.head()"
      ],
      "metadata": {
        "colab": {
          "base_uri": "https://localhost:8080/",
          "height": 288
        },
        "id": "aRpr63m_a0Yb",
        "outputId": "67930f65-bc29-45f4-bab2-5fcc82682f81"
      },
      "execution_count": null,
      "outputs": [
        {
          "output_type": "execute_result",
          "data": {
            "text/plain": [
              "           marca modelo        km  potencia fecha_registro tipo_gasolina  \\\n",
              "0  Potential BMW    118  140411.0     100.0     2012-02-01        diesel   \n",
              "1            BMW     M4   13929.0     317.0      not known        petrol   \n",
              "2            BMW    425   97097.0     160.0      not known        diesel   \n",
              "3            BMW    335  152352.0     225.0     2011-05-01        petrol   \n",
              "4            BMW    325  205219.0     145.0      not known        diesel   \n",
              "\n",
              "    color   tipo_coche   gps   precio  volante_regulable_INT  \\\n",
              "0   black    not known  True  11300.0                      1   \n",
              "1    grey  convertible  True  69700.0                      1   \n",
              "2  silver    not known  True  33400.0                      1   \n",
              "3   black    not known  True  17100.0                      1   \n",
              "4    grey  convertible  True  12400.0                      1   \n",
              "\n",
              "   camara_trasera_INT  elevalunas_electrico_INT  fecha_venta_DIA  \\\n",
              "0                   0                         1                1   \n",
              "1                   0                         0                1   \n",
              "2                   0                         0                1   \n",
              "3                   0                         1                1   \n",
              "4                   0                         1                1   \n",
              "\n",
              "   fecha_venta_MES  fecha_venta_ANYO  bluetooth_INT  alerta_lim_velocidad_INT  \\\n",
              "0                1              2018              2                         2   \n",
              "1                2              2018              1                         1   \n",
              "2                4              2018              1                         1   \n",
              "3                2              2018              1                         1   \n",
              "4                2              2018              1                         1   \n",
              "\n",
              "   aire_acondicionado_INT  \n",
              "0                       1  \n",
              "1                       1  \n",
              "2                       1  \n",
              "3                       1  \n",
              "4                       1  "
            ],
            "text/html": [
              "\n",
              "\n",
              "  <div id=\"df-8526a670-9e3c-4b66-9103-c79b2a533c87\">\n",
              "    <div class=\"colab-df-container\">\n",
              "      <div>\n",
              "<style scoped>\n",
              "    .dataframe tbody tr th:only-of-type {\n",
              "        vertical-align: middle;\n",
              "    }\n",
              "\n",
              "    .dataframe tbody tr th {\n",
              "        vertical-align: top;\n",
              "    }\n",
              "\n",
              "    .dataframe thead th {\n",
              "        text-align: right;\n",
              "    }\n",
              "</style>\n",
              "<table border=\"1\" class=\"dataframe\">\n",
              "  <thead>\n",
              "    <tr style=\"text-align: right;\">\n",
              "      <th></th>\n",
              "      <th>marca</th>\n",
              "      <th>modelo</th>\n",
              "      <th>km</th>\n",
              "      <th>potencia</th>\n",
              "      <th>fecha_registro</th>\n",
              "      <th>tipo_gasolina</th>\n",
              "      <th>color</th>\n",
              "      <th>tipo_coche</th>\n",
              "      <th>gps</th>\n",
              "      <th>precio</th>\n",
              "      <th>volante_regulable_INT</th>\n",
              "      <th>camara_trasera_INT</th>\n",
              "      <th>elevalunas_electrico_INT</th>\n",
              "      <th>fecha_venta_DIA</th>\n",
              "      <th>fecha_venta_MES</th>\n",
              "      <th>fecha_venta_ANYO</th>\n",
              "      <th>bluetooth_INT</th>\n",
              "      <th>alerta_lim_velocidad_INT</th>\n",
              "      <th>aire_acondicionado_INT</th>\n",
              "    </tr>\n",
              "  </thead>\n",
              "  <tbody>\n",
              "    <tr>\n",
              "      <th>0</th>\n",
              "      <td>Potential BMW</td>\n",
              "      <td>118</td>\n",
              "      <td>140411.0</td>\n",
              "      <td>100.0</td>\n",
              "      <td>2012-02-01</td>\n",
              "      <td>diesel</td>\n",
              "      <td>black</td>\n",
              "      <td>not known</td>\n",
              "      <td>True</td>\n",
              "      <td>11300.0</td>\n",
              "      <td>1</td>\n",
              "      <td>0</td>\n",
              "      <td>1</td>\n",
              "      <td>1</td>\n",
              "      <td>1</td>\n",
              "      <td>2018</td>\n",
              "      <td>2</td>\n",
              "      <td>2</td>\n",
              "      <td>1</td>\n",
              "    </tr>\n",
              "    <tr>\n",
              "      <th>1</th>\n",
              "      <td>BMW</td>\n",
              "      <td>M4</td>\n",
              "      <td>13929.0</td>\n",
              "      <td>317.0</td>\n",
              "      <td>not known</td>\n",
              "      <td>petrol</td>\n",
              "      <td>grey</td>\n",
              "      <td>convertible</td>\n",
              "      <td>True</td>\n",
              "      <td>69700.0</td>\n",
              "      <td>1</td>\n",
              "      <td>0</td>\n",
              "      <td>0</td>\n",
              "      <td>1</td>\n",
              "      <td>2</td>\n",
              "      <td>2018</td>\n",
              "      <td>1</td>\n",
              "      <td>1</td>\n",
              "      <td>1</td>\n",
              "    </tr>\n",
              "    <tr>\n",
              "      <th>2</th>\n",
              "      <td>BMW</td>\n",
              "      <td>425</td>\n",
              "      <td>97097.0</td>\n",
              "      <td>160.0</td>\n",
              "      <td>not known</td>\n",
              "      <td>diesel</td>\n",
              "      <td>silver</td>\n",
              "      <td>not known</td>\n",
              "      <td>True</td>\n",
              "      <td>33400.0</td>\n",
              "      <td>1</td>\n",
              "      <td>0</td>\n",
              "      <td>0</td>\n",
              "      <td>1</td>\n",
              "      <td>4</td>\n",
              "      <td>2018</td>\n",
              "      <td>1</td>\n",
              "      <td>1</td>\n",
              "      <td>1</td>\n",
              "    </tr>\n",
              "    <tr>\n",
              "      <th>3</th>\n",
              "      <td>BMW</td>\n",
              "      <td>335</td>\n",
              "      <td>152352.0</td>\n",
              "      <td>225.0</td>\n",
              "      <td>2011-05-01</td>\n",
              "      <td>petrol</td>\n",
              "      <td>black</td>\n",
              "      <td>not known</td>\n",
              "      <td>True</td>\n",
              "      <td>17100.0</td>\n",
              "      <td>1</td>\n",
              "      <td>0</td>\n",
              "      <td>1</td>\n",
              "      <td>1</td>\n",
              "      <td>2</td>\n",
              "      <td>2018</td>\n",
              "      <td>1</td>\n",
              "      <td>1</td>\n",
              "      <td>1</td>\n",
              "    </tr>\n",
              "    <tr>\n",
              "      <th>4</th>\n",
              "      <td>BMW</td>\n",
              "      <td>325</td>\n",
              "      <td>205219.0</td>\n",
              "      <td>145.0</td>\n",
              "      <td>not known</td>\n",
              "      <td>diesel</td>\n",
              "      <td>grey</td>\n",
              "      <td>convertible</td>\n",
              "      <td>True</td>\n",
              "      <td>12400.0</td>\n",
              "      <td>1</td>\n",
              "      <td>0</td>\n",
              "      <td>1</td>\n",
              "      <td>1</td>\n",
              "      <td>2</td>\n",
              "      <td>2018</td>\n",
              "      <td>1</td>\n",
              "      <td>1</td>\n",
              "      <td>1</td>\n",
              "    </tr>\n",
              "  </tbody>\n",
              "</table>\n",
              "</div>\n",
              "      <button class=\"colab-df-convert\" onclick=\"convertToInteractive('df-8526a670-9e3c-4b66-9103-c79b2a533c87')\"\n",
              "              title=\"Convert this dataframe to an interactive table.\"\n",
              "              style=\"display:none;\">\n",
              "\n",
              "  <svg xmlns=\"http://www.w3.org/2000/svg\" height=\"24px\"viewBox=\"0 0 24 24\"\n",
              "       width=\"24px\">\n",
              "    <path d=\"M0 0h24v24H0V0z\" fill=\"none\"/>\n",
              "    <path d=\"M18.56 5.44l.94 2.06.94-2.06 2.06-.94-2.06-.94-.94-2.06-.94 2.06-2.06.94zm-11 1L8.5 8.5l.94-2.06 2.06-.94-2.06-.94L8.5 2.5l-.94 2.06-2.06.94zm10 10l.94 2.06.94-2.06 2.06-.94-2.06-.94-.94-2.06-.94 2.06-2.06.94z\"/><path d=\"M17.41 7.96l-1.37-1.37c-.4-.4-.92-.59-1.43-.59-.52 0-1.04.2-1.43.59L10.3 9.45l-7.72 7.72c-.78.78-.78 2.05 0 2.83L4 21.41c.39.39.9.59 1.41.59.51 0 1.02-.2 1.41-.59l7.78-7.78 2.81-2.81c.8-.78.8-2.07 0-2.86zM5.41 20L4 18.59l7.72-7.72 1.47 1.35L5.41 20z\"/>\n",
              "  </svg>\n",
              "      </button>\n",
              "\n",
              "\n",
              "\n",
              "    <div id=\"df-fcf5a78a-7859-4d27-a95f-f49595e03cf7\">\n",
              "      <button class=\"colab-df-quickchart\" onclick=\"quickchart('df-fcf5a78a-7859-4d27-a95f-f49595e03cf7')\"\n",
              "              title=\"Suggest charts.\"\n",
              "              style=\"display:none;\">\n",
              "\n",
              "<svg xmlns=\"http://www.w3.org/2000/svg\" height=\"24px\"viewBox=\"0 0 24 24\"\n",
              "     width=\"24px\">\n",
              "    <g>\n",
              "        <path d=\"M19 3H5c-1.1 0-2 .9-2 2v14c0 1.1.9 2 2 2h14c1.1 0 2-.9 2-2V5c0-1.1-.9-2-2-2zM9 17H7v-7h2v7zm4 0h-2V7h2v10zm4 0h-2v-4h2v4z\"/>\n",
              "    </g>\n",
              "</svg>\n",
              "      </button>\n",
              "    </div>\n",
              "\n",
              "<style>\n",
              "  .colab-df-quickchart {\n",
              "    background-color: #E8F0FE;\n",
              "    border: none;\n",
              "    border-radius: 50%;\n",
              "    cursor: pointer;\n",
              "    display: none;\n",
              "    fill: #1967D2;\n",
              "    height: 32px;\n",
              "    padding: 0 0 0 0;\n",
              "    width: 32px;\n",
              "  }\n",
              "\n",
              "  .colab-df-quickchart:hover {\n",
              "    background-color: #E2EBFA;\n",
              "    box-shadow: 0px 1px 2px rgba(60, 64, 67, 0.3), 0px 1px 3px 1px rgba(60, 64, 67, 0.15);\n",
              "    fill: #174EA6;\n",
              "  }\n",
              "\n",
              "  [theme=dark] .colab-df-quickchart {\n",
              "    background-color: #3B4455;\n",
              "    fill: #D2E3FC;\n",
              "  }\n",
              "\n",
              "  [theme=dark] .colab-df-quickchart:hover {\n",
              "    background-color: #434B5C;\n",
              "    box-shadow: 0px 1px 3px 1px rgba(0, 0, 0, 0.15);\n",
              "    filter: drop-shadow(0px 1px 2px rgba(0, 0, 0, 0.3));\n",
              "    fill: #FFFFFF;\n",
              "  }\n",
              "</style>\n",
              "\n",
              "    <script>\n",
              "      async function quickchart(key) {\n",
              "        const containerElement = document.querySelector('#' + key);\n",
              "        const charts = await google.colab.kernel.invokeFunction(\n",
              "            'suggestCharts', [key], {});\n",
              "      }\n",
              "    </script>\n",
              "\n",
              "      <script>\n",
              "\n",
              "function displayQuickchartButton(domScope) {\n",
              "  let quickchartButtonEl =\n",
              "    domScope.querySelector('#df-fcf5a78a-7859-4d27-a95f-f49595e03cf7 button.colab-df-quickchart');\n",
              "  quickchartButtonEl.style.display =\n",
              "    google.colab.kernel.accessAllowed ? 'block' : 'none';\n",
              "}\n",
              "\n",
              "        displayQuickchartButton(document);\n",
              "      </script>\n",
              "      <style>\n",
              "    .colab-df-container {\n",
              "      display:flex;\n",
              "      flex-wrap:wrap;\n",
              "      gap: 12px;\n",
              "    }\n",
              "\n",
              "    .colab-df-convert {\n",
              "      background-color: #E8F0FE;\n",
              "      border: none;\n",
              "      border-radius: 50%;\n",
              "      cursor: pointer;\n",
              "      display: none;\n",
              "      fill: #1967D2;\n",
              "      height: 32px;\n",
              "      padding: 0 0 0 0;\n",
              "      width: 32px;\n",
              "    }\n",
              "\n",
              "    .colab-df-convert:hover {\n",
              "      background-color: #E2EBFA;\n",
              "      box-shadow: 0px 1px 2px rgba(60, 64, 67, 0.3), 0px 1px 3px 1px rgba(60, 64, 67, 0.15);\n",
              "      fill: #174EA6;\n",
              "    }\n",
              "\n",
              "    [theme=dark] .colab-df-convert {\n",
              "      background-color: #3B4455;\n",
              "      fill: #D2E3FC;\n",
              "    }\n",
              "\n",
              "    [theme=dark] .colab-df-convert:hover {\n",
              "      background-color: #434B5C;\n",
              "      box-shadow: 0px 1px 3px 1px rgba(0, 0, 0, 0.15);\n",
              "      filter: drop-shadow(0px 1px 2px rgba(0, 0, 0, 0.3));\n",
              "      fill: #FFFFFF;\n",
              "    }\n",
              "  </style>\n",
              "\n",
              "      <script>\n",
              "        const buttonEl =\n",
              "          document.querySelector('#df-8526a670-9e3c-4b66-9103-c79b2a533c87 button.colab-df-convert');\n",
              "        buttonEl.style.display =\n",
              "          google.colab.kernel.accessAllowed ? 'block' : 'none';\n",
              "\n",
              "        async function convertToInteractive(key) {\n",
              "          const element = document.querySelector('#df-8526a670-9e3c-4b66-9103-c79b2a533c87');\n",
              "          const dataTable =\n",
              "            await google.colab.kernel.invokeFunction('convertToInteractive',\n",
              "                                                     [key], {});\n",
              "          if (!dataTable) return;\n",
              "\n",
              "          const docLinkHtml = 'Like what you see? Visit the ' +\n",
              "            '<a target=\"_blank\" href=https://colab.research.google.com/notebooks/data_table.ipynb>data table notebook</a>'\n",
              "            + ' to learn more about interactive tables.';\n",
              "          element.innerHTML = '';\n",
              "          dataTable['output_type'] = 'display_data';\n",
              "          await google.colab.output.renderOutput(dataTable, element);\n",
              "          const docLink = document.createElement('div');\n",
              "          docLink.innerHTML = docLinkHtml;\n",
              "          element.appendChild(docLink);\n",
              "        }\n",
              "      </script>\n",
              "    </div>\n",
              "  </div>\n"
            ]
          },
          "metadata": {},
          "execution_count": 751
        }
      ]
    },
    {
      "cell_type": "code",
      "source": [
        "corr_2=df_5.corr(numeric_only=True)"
      ],
      "metadata": {
        "id": "XhUNpgYQztjN"
      },
      "execution_count": null,
      "outputs": []
    },
    {
      "cell_type": "code",
      "source": [
        "corr_2.style.background_gradient(cmap=\"coolwarm\")"
      ],
      "metadata": {
        "colab": {
          "base_uri": "https://localhost:8080/",
          "height": 548
        },
        "id": "ZbVOEpQXzzOx",
        "outputId": "45d99e30-c9a7-4ffc-cd84-7ea8cabf775b"
      },
      "execution_count": null,
      "outputs": [
        {
          "output_type": "stream",
          "name": "stderr",
          "text": [
            "/usr/local/lib/python3.10/dist-packages/pandas/io/formats/style.py:3931: RuntimeWarning: All-NaN slice encountered\n",
            "  smin = np.nanmin(gmap) if vmin is None else vmin\n",
            "/usr/local/lib/python3.10/dist-packages/pandas/io/formats/style.py:3932: RuntimeWarning: All-NaN slice encountered\n",
            "  smax = np.nanmax(gmap) if vmax is None else vmax\n"
          ]
        },
        {
          "output_type": "execute_result",
          "data": {
            "text/plain": [
              "<pandas.io.formats.style.Styler at 0x7bdb5ce1f790>"
            ],
            "text/html": [
              "<style type=\"text/css\">\n",
              "#T_24041_row0_col0, #T_24041_row1_col1, #T_24041_row2_col2, #T_24041_row3_col3, #T_24041_row4_col4, #T_24041_row5_col5, #T_24041_row6_col6, #T_24041_row8_col8, #T_24041_row9_col9, #T_24041_row10_col10, #T_24041_row11_col11, #T_24041_row12_col12 {\n",
              "  background-color: #b40426;\n",
              "  color: #f1f1f1;\n",
              "}\n",
              "#T_24041_row0_col1, #T_24041_row0_col3, #T_24041_row0_col5, #T_24041_row0_col9, #T_24041_row0_col11, #T_24041_row1_col8, #T_24041_row3_col0, #T_24041_row8_col6, #T_24041_row8_col10, #T_24041_row9_col4, #T_24041_row9_col12, #T_24041_row11_col2 {\n",
              "  background-color: #3b4cc0;\n",
              "  color: #f1f1f1;\n",
              "}\n",
              "#T_24041_row0_col2 {\n",
              "  background-color: #7396f5;\n",
              "  color: #f1f1f1;\n",
              "}\n",
              "#T_24041_row0_col4 {\n",
              "  background-color: #4e68d8;\n",
              "  color: #f1f1f1;\n",
              "}\n",
              "#T_24041_row0_col6 {\n",
              "  background-color: #4f69d9;\n",
              "  color: #f1f1f1;\n",
              "}\n",
              "#T_24041_row0_col7, #T_24041_row1_col7, #T_24041_row2_col7, #T_24041_row3_col7, #T_24041_row4_col7, #T_24041_row5_col7, #T_24041_row6_col7, #T_24041_row7_col0, #T_24041_row7_col1, #T_24041_row7_col2, #T_24041_row7_col3, #T_24041_row7_col4, #T_24041_row7_col5, #T_24041_row7_col6, #T_24041_row7_col7, #T_24041_row7_col8, #T_24041_row7_col9, #T_24041_row7_col10, #T_24041_row7_col11, #T_24041_row7_col12, #T_24041_row8_col7, #T_24041_row9_col7, #T_24041_row10_col7, #T_24041_row11_col7, #T_24041_row12_col7 {\n",
              "  background-color: #000000;\n",
              "  color: #f1f1f1;\n",
              "}\n",
              "#T_24041_row0_col8, #T_24041_row1_col9, #T_24041_row6_col9, #T_24041_row9_col10 {\n",
              "  background-color: #4358cb;\n",
              "  color: #f1f1f1;\n",
              "}\n",
              "#T_24041_row0_col10, #T_24041_row11_col8 {\n",
              "  background-color: #3d50c3;\n",
              "  color: #f1f1f1;\n",
              "}\n",
              "#T_24041_row0_col12, #T_24041_row8_col12 {\n",
              "  background-color: #455cce;\n",
              "  color: #f1f1f1;\n",
              "}\n",
              "#T_24041_row1_col0 {\n",
              "  background-color: #8fb1fe;\n",
              "  color: #000000;\n",
              "}\n",
              "#T_24041_row1_col2, #T_24041_row4_col9 {\n",
              "  background-color: #445acc;\n",
              "  color: #f1f1f1;\n",
              "}\n",
              "#T_24041_row1_col3 {\n",
              "  background-color: #f59c7d;\n",
              "  color: #000000;\n",
              "}\n",
              "#T_24041_row1_col4 {\n",
              "  background-color: #a7c5fe;\n",
              "  color: #000000;\n",
              "}\n",
              "#T_24041_row1_col5 {\n",
              "  background-color: #a2c1ff;\n",
              "  color: #000000;\n",
              "}\n",
              "#T_24041_row1_col6, #T_24041_row4_col1 {\n",
              "  background-color: #b2ccfb;\n",
              "  color: #000000;\n",
              "}\n",
              "#T_24041_row1_col10, #T_24041_row5_col12 {\n",
              "  background-color: #6687ed;\n",
              "  color: #f1f1f1;\n",
              "}\n",
              "#T_24041_row1_col11 {\n",
              "  background-color: #a3c2fe;\n",
              "  color: #000000;\n",
              "}\n",
              "#T_24041_row1_col12 {\n",
              "  background-color: #6a8bef;\n",
              "  color: #f1f1f1;\n",
              "}\n",
              "#T_24041_row2_col0 {\n",
              "  background-color: #c0d4f5;\n",
              "  color: #000000;\n",
              "}\n",
              "#T_24041_row2_col1 {\n",
              "  background-color: #4b64d5;\n",
              "  color: #f1f1f1;\n",
              "}\n",
              "#T_24041_row2_col3 {\n",
              "  background-color: #98b9ff;\n",
              "  color: #000000;\n",
              "}\n",
              "#T_24041_row2_col4 {\n",
              "  background-color: #8badfd;\n",
              "  color: #000000;\n",
              "}\n",
              "#T_24041_row2_col5, #T_24041_row12_col10 {\n",
              "  background-color: #4c66d6;\n",
              "  color: #f1f1f1;\n",
              "}\n",
              "#T_24041_row2_col6 {\n",
              "  background-color: #82a6fb;\n",
              "  color: #f1f1f1;\n",
              "}\n",
              "#T_24041_row2_col8, #T_24041_row8_col2, #T_24041_row11_col12 {\n",
              "  background-color: #5572df;\n",
              "  color: #f1f1f1;\n",
              "}\n",
              "#T_24041_row2_col9 {\n",
              "  background-color: #4257c9;\n",
              "  color: #f1f1f1;\n",
              "}\n",
              "#T_24041_row2_col10, #T_24041_row4_col10, #T_24041_row8_col4 {\n",
              "  background-color: #536edd;\n",
              "  color: #f1f1f1;\n",
              "}\n",
              "#T_24041_row2_col11, #T_24041_row6_col8 {\n",
              "  background-color: #3c4ec2;\n",
              "  color: #f1f1f1;\n",
              "}\n",
              "#T_24041_row2_col12, #T_24041_row4_col2 {\n",
              "  background-color: #92b4fe;\n",
              "  color: #000000;\n",
              "}\n",
              "#T_24041_row3_col1 {\n",
              "  background-color: #f7bca1;\n",
              "  color: #000000;\n",
              "}\n",
              "#T_24041_row3_col2, #T_24041_row8_col5, #T_24041_row9_col2, #T_24041_row9_col8, #T_24041_row10_col8 {\n",
              "  background-color: #3f53c6;\n",
              "  color: #f1f1f1;\n",
              "}\n",
              "#T_24041_row3_col4, #T_24041_row9_col0, #T_24041_row11_col0 {\n",
              "  background-color: #93b5fe;\n",
              "  color: #000000;\n",
              "}\n",
              "#T_24041_row3_col5, #T_24041_row4_col5, #T_24041_row5_col4 {\n",
              "  background-color: #8db0fe;\n",
              "  color: #000000;\n",
              "}\n",
              "#T_24041_row3_col6, #T_24041_row6_col4 {\n",
              "  background-color: #97b8ff;\n",
              "  color: #000000;\n",
              "}\n",
              "#T_24041_row3_col8 {\n",
              "  background-color: #465ecf;\n",
              "  color: #f1f1f1;\n",
              "}\n",
              "#T_24041_row3_col9, #T_24041_row5_col8, #T_24041_row5_col9, #T_24041_row9_col1, #T_24041_row12_col8 {\n",
              "  background-color: #485fd1;\n",
              "  color: #f1f1f1;\n",
              "}\n",
              "#T_24041_row3_col10, #T_24041_row11_col4 {\n",
              "  background-color: #6384eb;\n",
              "  color: #f1f1f1;\n",
              "}\n",
              "#T_24041_row3_col11 {\n",
              "  background-color: #9abbff;\n",
              "  color: #000000;\n",
              "}\n",
              "#T_24041_row3_col12 {\n",
              "  background-color: #6f92f3;\n",
              "  color: #f1f1f1;\n",
              "}\n",
              "#T_24041_row4_col0 {\n",
              "  background-color: #abc8fd;\n",
              "  color: #000000;\n",
              "}\n",
              "#T_24041_row4_col3, #T_24041_row11_col3 {\n",
              "  background-color: #d7dce3;\n",
              "  color: #000000;\n",
              "}\n",
              "#T_24041_row4_col6 {\n",
              "  background-color: #9dbdff;\n",
              "  color: #000000;\n",
              "}\n",
              "#T_24041_row4_col8 {\n",
              "  background-color: #5b7ae5;\n",
              "  color: #f1f1f1;\n",
              "}\n",
              "#T_24041_row4_col11 {\n",
              "  background-color: #6c8ff1;\n",
              "  color: #f1f1f1;\n",
              "}\n",
              "#T_24041_row4_col12 {\n",
              "  background-color: #80a3fa;\n",
              "  color: #f1f1f1;\n",
              "}\n",
              "#T_24041_row5_col0, #T_24041_row8_col0, #T_24041_row10_col0 {\n",
              "  background-color: #9bbcff;\n",
              "  color: #000000;\n",
              "}\n",
              "#T_24041_row5_col1 {\n",
              "  background-color: #aec9fc;\n",
              "  color: #000000;\n",
              "}\n",
              "#T_24041_row5_col2 {\n",
              "  background-color: #5470de;\n",
              "  color: #f1f1f1;\n",
              "}\n",
              "#T_24041_row5_col3 {\n",
              "  background-color: #d5dbe5;\n",
              "  color: #000000;\n",
              "}\n",
              "#T_24041_row5_col6 {\n",
              "  background-color: #81a4fb;\n",
              "  color: #f1f1f1;\n",
              "}\n",
              "#T_24041_row5_col10, #T_24041_row10_col2 {\n",
              "  background-color: #5977e3;\n",
              "  color: #f1f1f1;\n",
              "}\n",
              "#T_24041_row5_col11, #T_24041_row6_col10 {\n",
              "  background-color: #6788ee;\n",
              "  color: #f1f1f1;\n",
              "}\n",
              "#T_24041_row6_col0, #T_24041_row11_col1 {\n",
              "  background-color: #a6c4fe;\n",
              "  color: #000000;\n",
              "}\n",
              "#T_24041_row6_col1 {\n",
              "  background-color: #b7cff9;\n",
              "  color: #000000;\n",
              "}\n",
              "#T_24041_row6_col2 {\n",
              "  background-color: #84a7fc;\n",
              "  color: #f1f1f1;\n",
              "}\n",
              "#T_24041_row6_col3 {\n",
              "  background-color: #d6dce4;\n",
              "  color: #000000;\n",
              "}\n",
              "#T_24041_row6_col5, #T_24041_row6_col12 {\n",
              "  background-color: #7a9df8;\n",
              "  color: #f1f1f1;\n",
              "}\n",
              "#T_24041_row6_col11 {\n",
              "  background-color: #88abfd;\n",
              "  color: #000000;\n",
              "}\n",
              "#T_24041_row8_col1, #T_24041_row8_col9, #T_24041_row9_col6 {\n",
              "  background-color: #4055c8;\n",
              "  color: #f1f1f1;\n",
              "}\n",
              "#T_24041_row8_col3, #T_24041_row9_col3 {\n",
              "  background-color: #9ebeff;\n",
              "  color: #000000;\n",
              "}\n",
              "#T_24041_row8_col11, #T_24041_row9_col5, #T_24041_row9_col11, #T_24041_row11_col9, #T_24041_row12_col9 {\n",
              "  background-color: #3e51c5;\n",
              "  color: #f1f1f1;\n",
              "}\n",
              "#T_24041_row10_col1, #T_24041_row12_col1 {\n",
              "  background-color: #7295f4;\n",
              "  color: #f1f1f1;\n",
              "}\n",
              "#T_24041_row10_col3 {\n",
              "  background-color: #b9d0f9;\n",
              "  color: #000000;\n",
              "}\n",
              "#T_24041_row10_col4, #T_24041_row10_col11, #T_24041_row10_col12 {\n",
              "  background-color: #506bda;\n",
              "  color: #f1f1f1;\n",
              "}\n",
              "#T_24041_row10_col5 {\n",
              "  background-color: #5673e0;\n",
              "  color: #f1f1f1;\n",
              "}\n",
              "#T_24041_row10_col6 {\n",
              "  background-color: #6b8df0;\n",
              "  color: #f1f1f1;\n",
              "}\n",
              "#T_24041_row10_col9 {\n",
              "  background-color: #4961d2;\n",
              "  color: #f1f1f1;\n",
              "}\n",
              "#T_24041_row11_col5 {\n",
              "  background-color: #5d7ce6;\n",
              "  color: #f1f1f1;\n",
              "}\n",
              "#T_24041_row11_col6 {\n",
              "  background-color: #85a8fc;\n",
              "  color: #f1f1f1;\n",
              "}\n",
              "#T_24041_row11_col10 {\n",
              "  background-color: #4a63d3;\n",
              "  color: #f1f1f1;\n",
              "}\n",
              "#T_24041_row12_col0 {\n",
              "  background-color: #9fbfff;\n",
              "  color: #000000;\n",
              "}\n",
              "#T_24041_row12_col2 {\n",
              "  background-color: #94b6ff;\n",
              "  color: #000000;\n",
              "}\n",
              "#T_24041_row12_col3 {\n",
              "  background-color: #bfd3f6;\n",
              "  color: #000000;\n",
              "}\n",
              "#T_24041_row12_col4, #T_24041_row12_col6 {\n",
              "  background-color: #7b9ff9;\n",
              "  color: #f1f1f1;\n",
              "}\n",
              "#T_24041_row12_col5 {\n",
              "  background-color: #5f7fe8;\n",
              "  color: #f1f1f1;\n",
              "}\n",
              "#T_24041_row12_col11 {\n",
              "  background-color: #5a78e4;\n",
              "  color: #f1f1f1;\n",
              "}\n",
              "</style>\n",
              "<table id=\"T_24041\" class=\"dataframe\">\n",
              "  <thead>\n",
              "    <tr>\n",
              "      <th class=\"blank level0\" >&nbsp;</th>\n",
              "      <th id=\"T_24041_level0_col0\" class=\"col_heading level0 col0\" >km</th>\n",
              "      <th id=\"T_24041_level0_col1\" class=\"col_heading level0 col1\" >potencia</th>\n",
              "      <th id=\"T_24041_level0_col2\" class=\"col_heading level0 col2\" >gps</th>\n",
              "      <th id=\"T_24041_level0_col3\" class=\"col_heading level0 col3\" >precio</th>\n",
              "      <th id=\"T_24041_level0_col4\" class=\"col_heading level0 col4\" >volante_regulable_INT</th>\n",
              "      <th id=\"T_24041_level0_col5\" class=\"col_heading level0 col5\" >camara_trasera_INT</th>\n",
              "      <th id=\"T_24041_level0_col6\" class=\"col_heading level0 col6\" >elevalunas_electrico_INT</th>\n",
              "      <th id=\"T_24041_level0_col7\" class=\"col_heading level0 col7\" >fecha_venta_DIA</th>\n",
              "      <th id=\"T_24041_level0_col8\" class=\"col_heading level0 col8\" >fecha_venta_MES</th>\n",
              "      <th id=\"T_24041_level0_col9\" class=\"col_heading level0 col9\" >fecha_venta_ANYO</th>\n",
              "      <th id=\"T_24041_level0_col10\" class=\"col_heading level0 col10\" >bluetooth_INT</th>\n",
              "      <th id=\"T_24041_level0_col11\" class=\"col_heading level0 col11\" >alerta_lim_velocidad_INT</th>\n",
              "      <th id=\"T_24041_level0_col12\" class=\"col_heading level0 col12\" >aire_acondicionado_INT</th>\n",
              "    </tr>\n",
              "  </thead>\n",
              "  <tbody>\n",
              "    <tr>\n",
              "      <th id=\"T_24041_level0_row0\" class=\"row_heading level0 row0\" >km</th>\n",
              "      <td id=\"T_24041_row0_col0\" class=\"data row0 col0\" >1.000000</td>\n",
              "      <td id=\"T_24041_row0_col1\" class=\"data row0 col1\" >-0.049749</td>\n",
              "      <td id=\"T_24041_row0_col2\" class=\"data row0 col2\" >0.155130</td>\n",
              "      <td id=\"T_24041_row0_col3\" class=\"data row0 col3\" >-0.409732</td>\n",
              "      <td id=\"T_24041_row0_col4\" class=\"data row0 col4\" >0.065988</td>\n",
              "      <td id=\"T_24041_row0_col5\" class=\"data row0 col5\" >0.001789</td>\n",
              "      <td id=\"T_24041_row0_col6\" class=\"data row0 col6\" >0.046895</td>\n",
              "      <td id=\"T_24041_row0_col7\" class=\"data row0 col7\" >nan</td>\n",
              "      <td id=\"T_24041_row0_col8\" class=\"data row0 col8\" >0.000647</td>\n",
              "      <td id=\"T_24041_row0_col9\" class=\"data row0 col9\" >-0.032456</td>\n",
              "      <td id=\"T_24041_row0_col10\" class=\"data row0 col10\" >0.000990</td>\n",
              "      <td id=\"T_24041_row0_col11\" class=\"data row0 col11\" >-0.032469</td>\n",
              "      <td id=\"T_24041_row0_col12\" class=\"data row0 col12\" >0.018517</td>\n",
              "    </tr>\n",
              "    <tr>\n",
              "      <th id=\"T_24041_level0_row1\" class=\"row_heading level0 row1\" >potencia</th>\n",
              "      <td id=\"T_24041_row1_col0\" class=\"data row1 col0\" >-0.049749</td>\n",
              "      <td id=\"T_24041_row1_col1\" class=\"data row1 col1\" >1.000000</td>\n",
              "      <td id=\"T_24041_row1_col2\" class=\"data row1 col2\" >0.008303</td>\n",
              "      <td id=\"T_24041_row1_col3\" class=\"data row1 col3\" >0.639002</td>\n",
              "      <td id=\"T_24041_row1_col4\" class=\"data row1 col4\" >0.327290</td>\n",
              "      <td id=\"T_24041_row1_col5\" class=\"data row1 col5\" >0.312806</td>\n",
              "      <td id=\"T_24041_row1_col6\" class=\"data row1 col6\" >0.342316</td>\n",
              "      <td id=\"T_24041_row1_col7\" class=\"data row1 col7\" >nan</td>\n",
              "      <td id=\"T_24041_row1_col8\" class=\"data row1 col8\" >-0.027819</td>\n",
              "      <td id=\"T_24041_row1_col9\" class=\"data row1 col9\" >-0.001711</td>\n",
              "      <td id=\"T_24041_row1_col10\" class=\"data row1 col10\" >0.133120</td>\n",
              "      <td id=\"T_24041_row1_col11\" class=\"data row1 col11\" >0.290585</td>\n",
              "      <td id=\"T_24041_row1_col12\" class=\"data row1 col12\" >0.134142</td>\n",
              "    </tr>\n",
              "    <tr>\n",
              "      <th id=\"T_24041_level0_row2\" class=\"row_heading level0 row2\" >gps</th>\n",
              "      <td id=\"T_24041_row2_col0\" class=\"data row2 col0\" >0.155130</td>\n",
              "      <td id=\"T_24041_row2_col1\" class=\"data row2 col1\" >0.008303</td>\n",
              "      <td id=\"T_24041_row2_col2\" class=\"data row2 col2\" >1.000000</td>\n",
              "      <td id=\"T_24041_row2_col3\" class=\"data row2 col3\" >-0.008738</td>\n",
              "      <td id=\"T_24041_row2_col4\" class=\"data row2 col4\" >0.242739</td>\n",
              "      <td id=\"T_24041_row2_col5\" class=\"data row2 col5\" >0.060829</td>\n",
              "      <td id=\"T_24041_row2_col6\" class=\"data row2 col6\" >0.202028</td>\n",
              "      <td id=\"T_24041_row2_col7\" class=\"data row2 col7\" >nan</td>\n",
              "      <td id=\"T_24041_row2_col8\" class=\"data row2 col8\" >0.061994</td>\n",
              "      <td id=\"T_24041_row2_col9\" class=\"data row2 col9\" >-0.007704</td>\n",
              "      <td id=\"T_24041_row2_col10\" class=\"data row2 col10\" >0.073256</td>\n",
              "      <td id=\"T_24041_row2_col11\" class=\"data row2 col11\" >-0.027455</td>\n",
              "      <td id=\"T_24041_row2_col12\" class=\"data row2 col12\" >0.249816</td>\n",
              "    </tr>\n",
              "    <tr>\n",
              "      <th id=\"T_24041_level0_row3\" class=\"row_heading level0 row3\" >precio</th>\n",
              "      <td id=\"T_24041_row3_col0\" class=\"data row3 col0\" >-0.409732</td>\n",
              "      <td id=\"T_24041_row3_col1\" class=\"data row3 col1\" >0.639002</td>\n",
              "      <td id=\"T_24041_row3_col2\" class=\"data row3 col2\" >-0.008738</td>\n",
              "      <td id=\"T_24041_row3_col3\" class=\"data row3 col3\" >1.000000</td>\n",
              "      <td id=\"T_24041_row3_col4\" class=\"data row3 col4\" >0.267589</td>\n",
              "      <td id=\"T_24041_row3_col5\" class=\"data row3 col5\" >0.251710</td>\n",
              "      <td id=\"T_24041_row3_col6\" class=\"data row3 col6\" >0.261007</td>\n",
              "      <td id=\"T_24041_row3_col7\" class=\"data row3 col7\" >nan</td>\n",
              "      <td id=\"T_24041_row3_col8\" class=\"data row3 col8\" >0.012796</td>\n",
              "      <td id=\"T_24041_row3_col9\" class=\"data row3 col9\" >0.013978</td>\n",
              "      <td id=\"T_24041_row3_col10\" class=\"data row3 col10\" >0.122619</td>\n",
              "      <td id=\"T_24041_row3_col11\" class=\"data row3 col11\" >0.265721</td>\n",
              "      <td id=\"T_24041_row3_col12\" class=\"data row3 col12\" >0.150980</td>\n",
              "    </tr>\n",
              "    <tr>\n",
              "      <th id=\"T_24041_level0_row4\" class=\"row_heading level0 row4\" >volante_regulable_INT</th>\n",
              "      <td id=\"T_24041_row4_col0\" class=\"data row4 col0\" >0.065988</td>\n",
              "      <td id=\"T_24041_row4_col1\" class=\"data row4 col1\" >0.327290</td>\n",
              "      <td id=\"T_24041_row4_col2\" class=\"data row4 col2\" >0.242739</td>\n",
              "      <td id=\"T_24041_row4_col3\" class=\"data row4 col3\" >0.267589</td>\n",
              "      <td id=\"T_24041_row4_col4\" class=\"data row4 col4\" >1.000000</td>\n",
              "      <td id=\"T_24041_row4_col5\" class=\"data row4 col5\" >0.253093</td>\n",
              "      <td id=\"T_24041_row4_col6\" class=\"data row4 col6\" >0.277956</td>\n",
              "      <td id=\"T_24041_row4_col7\" class=\"data row4 col7\" >nan</td>\n",
              "      <td id=\"T_24041_row4_col8\" class=\"data row4 col8\" >0.080885</td>\n",
              "      <td id=\"T_24041_row4_col9\" class=\"data row4 col9\" >-0.000131</td>\n",
              "      <td id=\"T_24041_row4_col10\" class=\"data row4 col10\" >0.070924</td>\n",
              "      <td id=\"T_24041_row4_col11\" class=\"data row4 col11\" >0.129931</td>\n",
              "      <td id=\"T_24041_row4_col12\" class=\"data row4 col12\" >0.199773</td>\n",
              "    </tr>\n",
              "    <tr>\n",
              "      <th id=\"T_24041_level0_row5\" class=\"row_heading level0 row5\" >camara_trasera_INT</th>\n",
              "      <td id=\"T_24041_row5_col0\" class=\"data row5 col0\" >0.001789</td>\n",
              "      <td id=\"T_24041_row5_col1\" class=\"data row5 col1\" >0.312806</td>\n",
              "      <td id=\"T_24041_row5_col2\" class=\"data row5 col2\" >0.060829</td>\n",
              "      <td id=\"T_24041_row5_col3\" class=\"data row5 col3\" >0.251710</td>\n",
              "      <td id=\"T_24041_row5_col4\" class=\"data row5 col4\" >0.253093</td>\n",
              "      <td id=\"T_24041_row5_col5\" class=\"data row5 col5\" >1.000000</td>\n",
              "      <td id=\"T_24041_row5_col6\" class=\"data row5 col6\" >0.198815</td>\n",
              "      <td id=\"T_24041_row5_col7\" class=\"data row5 col7\" >nan</td>\n",
              "      <td id=\"T_24041_row5_col8\" class=\"data row5 col8\" >0.019622</td>\n",
              "      <td id=\"T_24041_row5_col9\" class=\"data row5 col9\" >0.014383</td>\n",
              "      <td id=\"T_24041_row5_col10\" class=\"data row5 col10\" >0.093782</td>\n",
              "      <td id=\"T_24041_row5_col11\" class=\"data row5 col11\" >0.114808</td>\n",
              "      <td id=\"T_24041_row5_col12\" class=\"data row5 col12\" >0.122202</td>\n",
              "    </tr>\n",
              "    <tr>\n",
              "      <th id=\"T_24041_level0_row6\" class=\"row_heading level0 row6\" >elevalunas_electrico_INT</th>\n",
              "      <td id=\"T_24041_row6_col0\" class=\"data row6 col0\" >0.046895</td>\n",
              "      <td id=\"T_24041_row6_col1\" class=\"data row6 col1\" >0.342316</td>\n",
              "      <td id=\"T_24041_row6_col2\" class=\"data row6 col2\" >0.202028</td>\n",
              "      <td id=\"T_24041_row6_col3\" class=\"data row6 col3\" >0.261007</td>\n",
              "      <td id=\"T_24041_row6_col4\" class=\"data row6 col4\" >0.277956</td>\n",
              "      <td id=\"T_24041_row6_col5\" class=\"data row6 col5\" >0.198815</td>\n",
              "      <td id=\"T_24041_row6_col6\" class=\"data row6 col6\" >1.000000</td>\n",
              "      <td id=\"T_24041_row6_col7\" class=\"data row6 col7\" >nan</td>\n",
              "      <td id=\"T_24041_row6_col8\" class=\"data row6 col8\" >-0.022842</td>\n",
              "      <td id=\"T_24041_row6_col9\" class=\"data row6 col9\" >-0.002273</td>\n",
              "      <td id=\"T_24041_row6_col10\" class=\"data row6 col10\" >0.136693</td>\n",
              "      <td id=\"T_24041_row6_col11\" class=\"data row6 col11\" >0.209774</td>\n",
              "      <td id=\"T_24041_row6_col12\" class=\"data row6 col12\" >0.181771</td>\n",
              "    </tr>\n",
              "    <tr>\n",
              "      <th id=\"T_24041_level0_row7\" class=\"row_heading level0 row7\" >fecha_venta_DIA</th>\n",
              "      <td id=\"T_24041_row7_col0\" class=\"data row7 col0\" >nan</td>\n",
              "      <td id=\"T_24041_row7_col1\" class=\"data row7 col1\" >nan</td>\n",
              "      <td id=\"T_24041_row7_col2\" class=\"data row7 col2\" >nan</td>\n",
              "      <td id=\"T_24041_row7_col3\" class=\"data row7 col3\" >nan</td>\n",
              "      <td id=\"T_24041_row7_col4\" class=\"data row7 col4\" >nan</td>\n",
              "      <td id=\"T_24041_row7_col5\" class=\"data row7 col5\" >nan</td>\n",
              "      <td id=\"T_24041_row7_col6\" class=\"data row7 col6\" >nan</td>\n",
              "      <td id=\"T_24041_row7_col7\" class=\"data row7 col7\" >nan</td>\n",
              "      <td id=\"T_24041_row7_col8\" class=\"data row7 col8\" >nan</td>\n",
              "      <td id=\"T_24041_row7_col9\" class=\"data row7 col9\" >nan</td>\n",
              "      <td id=\"T_24041_row7_col10\" class=\"data row7 col10\" >nan</td>\n",
              "      <td id=\"T_24041_row7_col11\" class=\"data row7 col11\" >nan</td>\n",
              "      <td id=\"T_24041_row7_col12\" class=\"data row7 col12\" >nan</td>\n",
              "    </tr>\n",
              "    <tr>\n",
              "      <th id=\"T_24041_level0_row8\" class=\"row_heading level0 row8\" >fecha_venta_MES</th>\n",
              "      <td id=\"T_24041_row8_col0\" class=\"data row8 col0\" >0.000647</td>\n",
              "      <td id=\"T_24041_row8_col1\" class=\"data row8 col1\" >-0.027819</td>\n",
              "      <td id=\"T_24041_row8_col2\" class=\"data row8 col2\" >0.061994</td>\n",
              "      <td id=\"T_24041_row8_col3\" class=\"data row8 col3\" >0.012796</td>\n",
              "      <td id=\"T_24041_row8_col4\" class=\"data row8 col4\" >0.080885</td>\n",
              "      <td id=\"T_24041_row8_col5\" class=\"data row8 col5\" >0.019622</td>\n",
              "      <td id=\"T_24041_row8_col6\" class=\"data row8 col6\" >-0.022842</td>\n",
              "      <td id=\"T_24041_row8_col7\" class=\"data row8 col7\" >nan</td>\n",
              "      <td id=\"T_24041_row8_col8\" class=\"data row8 col8\" >1.000000</td>\n",
              "      <td id=\"T_24041_row8_col9\" class=\"data row8 col9\" >-0.009939</td>\n",
              "      <td id=\"T_24041_row8_col10\" class=\"data row8 col10\" >-0.008562</td>\n",
              "      <td id=\"T_24041_row8_col11\" class=\"data row8 col11\" >-0.018824</td>\n",
              "      <td id=\"T_24041_row8_col12\" class=\"data row8 col12\" >0.017840</td>\n",
              "    </tr>\n",
              "    <tr>\n",
              "      <th id=\"T_24041_level0_row9\" class=\"row_heading level0 row9\" >fecha_venta_ANYO</th>\n",
              "      <td id=\"T_24041_row9_col0\" class=\"data row9 col0\" >-0.032456</td>\n",
              "      <td id=\"T_24041_row9_col1\" class=\"data row9 col1\" >-0.001711</td>\n",
              "      <td id=\"T_24041_row9_col2\" class=\"data row9 col2\" >-0.007704</td>\n",
              "      <td id=\"T_24041_row9_col3\" class=\"data row9 col3\" >0.013978</td>\n",
              "      <td id=\"T_24041_row9_col4\" class=\"data row9 col4\" >-0.000131</td>\n",
              "      <td id=\"T_24041_row9_col5\" class=\"data row9 col5\" >0.014383</td>\n",
              "      <td id=\"T_24041_row9_col6\" class=\"data row9 col6\" >-0.002273</td>\n",
              "      <td id=\"T_24041_row9_col7\" class=\"data row9 col7\" >nan</td>\n",
              "      <td id=\"T_24041_row9_col8\" class=\"data row9 col8\" >-0.009939</td>\n",
              "      <td id=\"T_24041_row9_col9\" class=\"data row9 col9\" >1.000000</td>\n",
              "      <td id=\"T_24041_row9_col10\" class=\"data row9 col10\" >0.019548</td>\n",
              "      <td id=\"T_24041_row9_col11\" class=\"data row9 col11\" >-0.017381</td>\n",
              "      <td id=\"T_24041_row9_col12\" class=\"data row9 col12\" >-0.018876</td>\n",
              "    </tr>\n",
              "    <tr>\n",
              "      <th id=\"T_24041_level0_row10\" class=\"row_heading level0 row10\" >bluetooth_INT</th>\n",
              "      <td id=\"T_24041_row10_col0\" class=\"data row10 col0\" >0.000990</td>\n",
              "      <td id=\"T_24041_row10_col1\" class=\"data row10 col1\" >0.133120</td>\n",
              "      <td id=\"T_24041_row10_col2\" class=\"data row10 col2\" >0.073256</td>\n",
              "      <td id=\"T_24041_row10_col3\" class=\"data row10 col3\" >0.122619</td>\n",
              "      <td id=\"T_24041_row10_col4\" class=\"data row10 col4\" >0.070924</td>\n",
              "      <td id=\"T_24041_row10_col5\" class=\"data row10 col5\" >0.093782</td>\n",
              "      <td id=\"T_24041_row10_col6\" class=\"data row10 col6\" >0.136693</td>\n",
              "      <td id=\"T_24041_row10_col7\" class=\"data row10 col7\" >nan</td>\n",
              "      <td id=\"T_24041_row10_col8\" class=\"data row10 col8\" >-0.008562</td>\n",
              "      <td id=\"T_24041_row10_col9\" class=\"data row10 col9\" >0.019548</td>\n",
              "      <td id=\"T_24041_row10_col10\" class=\"data row10 col10\" >1.000000</td>\n",
              "      <td id=\"T_24041_row10_col11\" class=\"data row10 col11\" >0.042816</td>\n",
              "      <td id=\"T_24041_row10_col12\" class=\"data row10 col12\" >0.054346</td>\n",
              "    </tr>\n",
              "    <tr>\n",
              "      <th id=\"T_24041_level0_row11\" class=\"row_heading level0 row11\" >alerta_lim_velocidad_INT</th>\n",
              "      <td id=\"T_24041_row11_col0\" class=\"data row11 col0\" >-0.032469</td>\n",
              "      <td id=\"T_24041_row11_col1\" class=\"data row11 col1\" >0.290585</td>\n",
              "      <td id=\"T_24041_row11_col2\" class=\"data row11 col2\" >-0.027455</td>\n",
              "      <td id=\"T_24041_row11_col3\" class=\"data row11 col3\" >0.265721</td>\n",
              "      <td id=\"T_24041_row11_col4\" class=\"data row11 col4\" >0.129931</td>\n",
              "      <td id=\"T_24041_row11_col5\" class=\"data row11 col5\" >0.114808</td>\n",
              "      <td id=\"T_24041_row11_col6\" class=\"data row11 col6\" >0.209774</td>\n",
              "      <td id=\"T_24041_row11_col7\" class=\"data row11 col7\" >nan</td>\n",
              "      <td id=\"T_24041_row11_col8\" class=\"data row11 col8\" >-0.018824</td>\n",
              "      <td id=\"T_24041_row11_col9\" class=\"data row11 col9\" >-0.017381</td>\n",
              "      <td id=\"T_24041_row11_col10\" class=\"data row11 col10\" >0.042816</td>\n",
              "      <td id=\"T_24041_row11_col11\" class=\"data row11 col11\" >1.000000</td>\n",
              "      <td id=\"T_24041_row11_col12\" class=\"data row11 col12\" >0.072518</td>\n",
              "    </tr>\n",
              "    <tr>\n",
              "      <th id=\"T_24041_level0_row12\" class=\"row_heading level0 row12\" >aire_acondicionado_INT</th>\n",
              "      <td id=\"T_24041_row12_col0\" class=\"data row12 col0\" >0.018517</td>\n",
              "      <td id=\"T_24041_row12_col1\" class=\"data row12 col1\" >0.134142</td>\n",
              "      <td id=\"T_24041_row12_col2\" class=\"data row12 col2\" >0.249816</td>\n",
              "      <td id=\"T_24041_row12_col3\" class=\"data row12 col3\" >0.150980</td>\n",
              "      <td id=\"T_24041_row12_col4\" class=\"data row12 col4\" >0.199773</td>\n",
              "      <td id=\"T_24041_row12_col5\" class=\"data row12 col5\" >0.122202</td>\n",
              "      <td id=\"T_24041_row12_col6\" class=\"data row12 col6\" >0.181771</td>\n",
              "      <td id=\"T_24041_row12_col7\" class=\"data row12 col7\" >nan</td>\n",
              "      <td id=\"T_24041_row12_col8\" class=\"data row12 col8\" >0.017840</td>\n",
              "      <td id=\"T_24041_row12_col9\" class=\"data row12 col9\" >-0.018876</td>\n",
              "      <td id=\"T_24041_row12_col10\" class=\"data row12 col10\" >0.054346</td>\n",
              "      <td id=\"T_24041_row12_col11\" class=\"data row12 col11\" >0.072518</td>\n",
              "      <td id=\"T_24041_row12_col12\" class=\"data row12 col12\" >1.000000</td>\n",
              "    </tr>\n",
              "  </tbody>\n",
              "</table>\n"
            ]
          },
          "metadata": {},
          "execution_count": 758
        }
      ]
    },
    {
      "cell_type": "code",
      "source": [
        "df_raquel = pd.to_pickle(df_5,\"/content/drive/MyDrive/MasterDataScientist/entregable 1/df_final\")"
      ],
      "metadata": {
        "id": "g7CrOE8yBZJW"
      },
      "execution_count": null,
      "outputs": []
    }
  ]
}